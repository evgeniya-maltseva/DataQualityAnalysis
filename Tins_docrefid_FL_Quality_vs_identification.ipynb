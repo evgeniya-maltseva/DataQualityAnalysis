{
 "cells": [
  {
   "cell_type": "code",
   "execution_count": 1,
   "metadata": {},
   "outputs": [
    {
     "name": "stderr",
     "output_type": "stream",
     "text": [
      "/home/jane/3005/lib/python3.7/site-packages/statsmodels/tools/_testing.py:19: FutureWarning: pandas.util.testing is deprecated. Use the functions in the public API at pandas.testing instead.\n",
      "  import pandas.util.testing as tm\n"
     ]
    }
   ],
   "source": [
    "import pandas as pd\n",
    "pd.set_option('display.max_rows', 300)\n",
    "pd.set_option(\"display.max_columns\", 60)\n",
    "import time\n",
    "import re\n",
    "import matplotlib.pyplot as plt\n",
    "import seaborn as sns\n",
    "sns.set(style='darkgrid', font_scale=2)\n",
    "import numpy as np\n",
    "from tqdm import tqdm\n",
    "import statistics\n",
    "%matplotlib inline\n",
    "import utils\n",
    "\n",
    "\n",
    "SOURCE_FOLDER = 'Source_data/'\n",
    "CHECK_FOLDER = 'files_for_checking/'"
   ]
  },
  {
   "cell_type": "code",
   "execution_count": 2,
   "metadata": {},
   "outputs": [],
   "source": [
    "okato = pd.read_csv(SOURCE_FOLDER + 'OKATO.csv', dtype = 'object').OKATO\n",
    "vzc = ['10', '11', '12', '20', '21', '22', '53', '54', '55', '61', '62', '63', '64', '65', '71', '72', '73', '74', '75']\n",
    "valid_zagran_codes = ['53', '61', '62', '63', '64', '70', '71']\n",
    "fns = pd.read_excel(SOURCE_FOLDER + 'Инспекции ФНС.xlsx', dtype = 'object').code\n",
    "\n",
    "def define_quality_fl(tins, return_statistics = False, return_tins = False, return_prc = False, eval_quality = False):\n",
    "    \n",
    "    not_digit = []\n",
    "    empty = []\n",
    "        \n",
    "    inn_ul = []\n",
    "    zagran = []\n",
    "    inn_ul = []\n",
    "    passport_or_inn_ul = []\n",
    "    inn = []\n",
    "    inn_plus = []\n",
    "    \n",
    "    invalid_9_10_12 = []\n",
    "    tin_less9 = []\n",
    "    tin_more12 = []\n",
    "    \n",
    "    inn_ul_post = []\n",
    "    zagran_post = []\n",
    "    passport_or_inn_ul_post = []\n",
    "    inn_post = []\n",
    "    inn_plus_post = []\n",
    "    \n",
    "    invalid_9_10_12_post = []\n",
    "    tin_less9_post = []\n",
    "    tin_more12_post = []\n",
    "    \n",
    "    len_tin = len(tins)\n",
    "    regexp = re.compile(r'\\d')\n",
    "   \n",
    "    for tin in tins:\n",
    "#         print(tin)\n",
    "        \n",
    "        if tin == 'nan':\n",
    "            empty.append(tin)\n",
    "#             print('Пусто')\n",
    "        \n",
    "        elif bool(re.search('\\d', tin)):\n",
    "            \n",
    "            if bool(re.match('^[0-9]+$', tin)):\n",
    "                               \n",
    "                if len(tin)==9:\n",
    "                    tin_10 = utils.add_digit(tin, 0, 'front') \n",
    "                    \n",
    "                    if utils.validate_zagran(tin, vzc):\n",
    "#                         print('Потенциально загран')\n",
    "                        zagran.append(tin)\n",
    "                    elif utils.validate_inn_ul(tin_10):\n",
    "#                         print('Потенциально ИНН ЮЛ')\n",
    "                        inn_ul.append(tin)\n",
    "                    else:\n",
    "#                         print('Невалидный документ')\n",
    "                        invalid_9_10_12.append(tin)\n",
    "                \n",
    "                if len(tin)==10:\n",
    "                    if (utils.validate_passport(tin, okato)) or (utils.validate_inn_ul(tin)):\n",
    "#                         print('Потенциально валидный росс.паспорт или ИНН ЮЛ')\n",
    "                        passport_or_inn_ul.append(tin)\n",
    "                    else:\n",
    "#                         print('Невалидный документ')\n",
    "                        invalid_9_10_12.append(tin)\n",
    "                        \n",
    "                if len(tin)==12:\n",
    "                    if utils.validate_inn(tin):\n",
    "#                         print('Валидный ИНН')\n",
    "                        inn.append(tin)\n",
    "                    else:\n",
    "#                         print('Невалидный документ')\n",
    "                        invalid_9_10_12.append(tin)\n",
    "                \n",
    "                if len(tin) < 9:\n",
    "#                     print('Длина TIN < 9 цифр')\n",
    "                    tin_less9.append(tin)\n",
    "                \n",
    "                if len(tin) == 11:\n",
    "                    tin_12 = utils.add_digit(tin, 0, 'front')\n",
    "                    if utils.validate_inn(tin_12):\n",
    "#                         print('Валидный ИНН')\n",
    "                        inn_plus.append(tin)\n",
    "                    else:\n",
    "#                         print('Невалидный документ')\n",
    "                        tin_more12.append(tin)\n",
    "                \n",
    "                if len(tin) == 13:\n",
    "                    tin_12 = utils.delete_digit(tin, 'front')\n",
    "                    if utils.validate_inn(tin_12):\n",
    "#                         print('Валидный ИНН')\n",
    "                        inn_plus.append(tin)\n",
    "                    else:\n",
    "#                         print('Невалидный документ')\n",
    "                        tin_more12.append(tin)\n",
    "                \n",
    "                        \n",
    "                if len(tin) > 13:\n",
    "#                     print('Длина TIN > 12 цифр')\n",
    "                    tin_more12.append(tin)\n",
    "            \n",
    "            else:\n",
    "#                 print('Зашумленные данные')\n",
    "                tin = utils.replace_hidden(tin)\n",
    "                tin_splited = utils.split_clean(tin)\n",
    "                len_tin += len(tin_splited)-1\n",
    "            \n",
    "                for tin in tin_splited:\n",
    "                    \n",
    "                    if len(tin)==9:\n",
    "                        tin_10 = utils.add_digit(tin, 0, 'front') \n",
    "                        if utils.validate_zagran(tin, vzc):\n",
    "#                         print('Потенциально загран после обработки')\n",
    "                            zagran_post.append(tin)\n",
    "                        elif utils.validate_inn_ul(tin_10):\n",
    "#                         print('Потенциально ИНН ЮЛ после обработки')\n",
    "                            inn_ul_post.append(tin)\n",
    "                        else:\n",
    "#                             print('Невалидный документ после обработки')\n",
    "                            invalid_9_10_12_post.append(tin)\n",
    "                    \n",
    "                    if len(tin)==10:\n",
    "                        if (utils.validate_passport(tin, okato)) or (utils.validate_inn_ul(tin)):\n",
    "#                             print('Потенциально валидный росс.паспорт или ИНН ЮЛ после обработки')\n",
    "                            passport_or_inn_ul_post.append(tin)\n",
    "                        else:\n",
    "#                             print('Невалидный документ после обработки')\n",
    "                            invalid_9_10_12_post.append(tin)\n",
    "                            \n",
    "                    if len(tin)==12:\n",
    "                        if utils.validate_inn(tin):\n",
    "#                             print('Валидный ИНН после обработки')\n",
    "                            inn_post.append(tin)\n",
    "                        else:\n",
    "#                             print('Невалидный документ после обработки')\n",
    "                            invalid_9_10_12_post.append(tin)\n",
    "                    \n",
    "                    if len(tin) < 9:\n",
    "#                         print('Длина TIN < 9 цифр после обработки')\n",
    "                        tin_less9_post.append(tin)\n",
    "                    \n",
    "                    if len(tin) == 11:\n",
    "                        tin_12 = utils.add_digit(tin, 0, 'front')\n",
    "                        if utils.validate_inn(tin_12):\n",
    "#                             print('Валидный ИНН после обработки')\n",
    "                            inn_plus_post.append(tin)\n",
    "                        else:\n",
    "#                             print('Невалидный документ после обработки')\n",
    "                            tin_more12_post.append(tin)\n",
    "    \n",
    "                    if len(tin) == 13:\n",
    "                        tin_12 = utils.delete_digit(tin, 'front')\n",
    "                        if utils.validate_inn(tin_12):\n",
    "#                         print('Валидный ИНН')\n",
    "                            inn_plus_post.append(tin)\n",
    "                        else:\n",
    "#                         print('Невалидный документ')\n",
    "                            tin_more12_post.append(tin)\n",
    "                            \n",
    "                    if len(tin) > 12:\n",
    "#                         print('Длина TIN > 12 цифр после обработки')\n",
    "                        tin_more12_post.append(tin)\n",
    "                \n",
    "        else:\n",
    "            not_digit.append(tin)\n",
    "#             print('TIN не содержит цифры')\n",
    "        \n",
    "        \n",
    "    good_after = inn_ul+zagran_post+inn_ul_post + passport_or_inn_ul_post + inn_post+inn_plus+inn_plus_post    \n",
    "    good_quality = zagran + passport_or_inn_ul + inn\n",
    "    poor_quality = not_digit + tin_less9 + tin_more12 + invalid_9_10_12 + tin_less9_post \\\n",
    "    +tin_more12_post + invalid_9_10_12_post\n",
    "        \n",
    "    contain_only_digits = zagran+inn_ul+passport_or_inn_ul+inn+invalid_9_10_12+tin_less9+tin_more12+inn_plus\n",
    "    noizy_data = zagran_post+inn_ul_post+passport_or_inn_ul_post+inn_post+invalid_9_10_12_post+tin_less9_post \\\n",
    "    +tin_more12_post+inn_plus_post\n",
    "    contain_digits = contain_only_digits+noizy_data\n",
    "    \n",
    "    possible_quality_9_10_12 = zagran+inn_ul+passport_or_inn_ul+inn+inn_plus+invalid_9_10_12\n",
    "    possible_quality_9_10_12_post = zagran_post+inn_ul_post+passport_or_inn_ul_post+inn_post+inn_plus_post \\\n",
    "    +invalid_9_10_12_post\n",
    "    \n",
    "    innplus = inn_plus + inn_plus_post\n",
    "    innulplus = inn_ul+inn_ul_post\n",
    "    inn_plus_all = innplus + innulplus\n",
    "    \n",
    "    cd = len(contain_digits)/len_tin\n",
    "    nd = len(not_digit)/len_tin\n",
    "    emp = len(empty)/len_tin\n",
    "    cod = len(contain_only_digits)/len_tin\n",
    "    pq = len(possible_quality_9_10_12)/len_tin\n",
    "    tm12 = len(tin_more12)/len_tin\n",
    "    tl9 =len(tin_less9)/len_tin\n",
    "    zoi = len(zagran)/len_tin\n",
    "    poi = len(passport_or_inn_ul)/len_tin\n",
    "    ipr = len(inn)/len_tin\n",
    "    inv = len(invalid_9_10_12)/len_tin\n",
    "        \n",
    "    noda = len(noizy_data)/len_tin\n",
    "    pqp = len(possible_quality_9_10_12_post)/len_tin\n",
    "    tm12p = len(tin_more12_post)/len_tin\n",
    "    tl9p =len(tin_less9_post)/len_tin\n",
    "    zoip = len(zagran_post)/len_tin\n",
    "    poip = len(passport_or_inn_ul_post)/len_tin\n",
    "    iprp = len(inn_post)/len_tin\n",
    "    invp = len(invalid_9_10_12_post)/len_tin\n",
    "    \n",
    "    innulp = len(innulplus)/len_tin\n",
    "    innp = len(innplus)/len_tin\n",
    "    ipa = len(inn_plus_all)/len_tin\n",
    "    \n",
    "    gq = len(good_quality)/len_tin\n",
    "    poqu = len(poor_quality)/len_tin\n",
    "    gqp = len(good_after)/len_tin\n",
    "        \n",
    "    if return_statistics:\n",
    "        print('Содержат цифры: {} %'.format(round(cd*100, 1)))\n",
    "        print('Содержат ТОЛЬКО буквы/символы: {} %\\n'.format(round(nd*100, 1)))\n",
    "#         print('Пусто: {} % \\n'.format(round(emp*100, 1)))\n",
    "        \n",
    "        print('Содержат ТОЛЬКО цифры: {} %'.format(round(cod *100, 1)))\n",
    "        print('Потенциально качественные 9,10,12: {} %'.format(round(pq*100, 1)))\n",
    "        print('Данные с лишними цифрами >12: {} %'.format(round(tm12*100, 1)))\n",
    "        print('Неполные данные : {} %\\n'.format(round(tl9*100, 1)))\n",
    "        \n",
    "        print('Потенциально качественные загран: {} %'.format(round(zoi*100, 1)))\n",
    "        print('Потенциально качественные росс.пасп или ИНН ЮЛ: {} %'.format(round(poi*100, 1)))\n",
    "        print('Потенциально качественные ИНН: {} %'.format(round(ipr*100, 1)))\n",
    "        print('Невалидные документы: {} %\\n'.format(round(inv*100, 1)))\n",
    "        \n",
    "        print('Зашумленные данные: {} %'.format(round(noda*100, 1)))\n",
    "        print('Потенциально качественные 9,10,12 после преобразований: {} %'.format(round(pqp*100, 1)))\n",
    "        print('Данные с лишними цифрами >12 после преобразований: {} %'.format(round(tm12p*100, 1)))\n",
    "        print('Неполные данные после преобразований : {} %\\n'.format(round(tl9p*100, 1)))\n",
    "        \n",
    "        print('Потенциально качественные загран после преобразований: {} %'.format(round(zoip*100, 1)))\n",
    "        print('Потенциально качественные росс.пасп или ИНН ЮЛ после преобразований: {} %'.format(round(poip*100, 1)))\n",
    "        print('Потенциально качественные ИНН после преобразований: {} %'.format(round(iprp*100, 1)))\n",
    "        print('Невалидные документы после преобразований: {} %\\n'.format(round(invp*100, 1)))\n",
    "        \n",
    "        print('Потенциально качественные ИНН после добавления/удаления цифры: {} %'.format(round(ipa*100, 1)))\n",
    "        print('Потенциально качественные ИНН ЮЛ после добавления цифры: {} %'.format(round(innulp*100, 1)))\n",
    "        print('Потенциально качественные ИНН после добавления/удаления цифры: {} %\\n'.format(round(innp*100, 1)))\n",
    "        \n",
    "        print('КАЧЕСТВЕННЫЕ ДАННЫЕ: {} %'.format(round(gq*100, 1)))\n",
    "        print('НЕКАЧЕСТВЕННЫЕ ДАННЫЕ: {} %'.format(round(poqu*100, 1)))\n",
    "        print('КАЧЕСТВЕННЫЕ ДАННЫЕ после преобразований: {} %'.format(round(gqp*100, 1)))\n",
    "        print('ДАННЫЕ НЕ ПРЕДОСТАВЛЕНЫ: {} %'.format(round(emp*100, 1)))\n",
    "    \n",
    "    if return_tins:\n",
    "        return good_quality, poor_quality, good_after, empty, not_digit, tin_less9, tin_less9_post\n",
    "    if return_prc:\n",
    "        return gq, poqu, gqp, emp\n",
    "    if eval_quality:\n",
    "        return zoi, poi, ipr, zoip, poip, iprp, innulp, innp\n",
    "    "
   ]
  },
  {
   "cell_type": "code",
   "execution_count": 3,
   "metadata": {},
   "outputs": [],
   "source": [
    "# %%time\n",
    "# data_raw = pd.read_csv(SOURCE_FOLDER + 'identnumbers_fs_ul.csv', delimiter = ';', encoding=\"ISO-8859-1\", engine = 'python', error_bad_lines=False)"
   ]
  },
  {
   "cell_type": "code",
   "execution_count": 4,
   "metadata": {},
   "outputs": [
    {
     "name": "stderr",
     "output_type": "stream",
     "text": [
      "<string>:2: DtypeWarning: Columns (13,15,17,21,23,24,25,27,30,32,33,38,52,75,77,79,80,81,83,84,85,87,88,91,92,93,95,96,97) have mixed types.Specify dtype option on import or set low_memory=False.\n"
     ]
    },
    {
     "name": "stdout",
     "output_type": "stream",
     "text": [
      "CPU times: user 36.1 s, sys: 3.76 s, total: 39.9 s\n",
      "Wall time: 40.8 s\n"
     ]
    }
   ],
   "source": [
    "%%time\n",
    "data_raw = pd.read_csv(SOURCE_FOLDER + 'identnumber_fs_ul_with_controlperson_identnumber_with_identification_fields.csv', delimiter = ';')"
   ]
  },
  {
   "cell_type": "code",
   "execution_count": 5,
   "metadata": {},
   "outputs": [
    {
     "data": {
      "text/plain": [
       "transmitting_country_                       3\n",
       "reporting_period_                         271\n",
       "rcountry_                                 266\n",
       "request_date_                             271\n",
       "request_id_                               110\n",
       "account_balance_                          108\n",
       "curr_code_                                108\n",
       "account_number_                            66\n",
       "account_change_                           388\n",
       "undocaccnt_                           2543209\n",
       "closedaccnt_                          1745732\n",
       "dormantaccnt_                         2616259\n",
       "type_fin_                                 434\n",
       "account_type_                         1270748\n",
       "docrefid_                                 387\n",
       "cordocrefid_                          3858566\n",
       "fin_country_                              389\n",
       "actual_flg_                               436\n",
       "request_status_                           433\n",
       "system_id_                                392\n",
       "payment_                              4131864\n",
       "fl_identnumber                         834550\n",
       "fl_countrycode                         921658\n",
       "ul_identnumbertype                    3988107\n",
       "ul_identnumber                        3948334\n",
       "ul_countrycode                        3949035\n",
       "reasoncodeent                         4102837\n",
       "reasondescription                     4121721\n",
       "res_country_code                         2020\n",
       "account_flg                           2442102\n",
       "account_number                        4032304\n",
       "address_flg                           2465986\n",
       "address_fl_rus                        4118795\n",
       "address_org_rus                       4089643\n",
       "algorithm_id                          2418295\n",
       "birth_date_flg                        2446612\n",
       "birth_place_flg                       2463292\n",
       "birth_place_rus                       2512730\n",
       "change_author                         4131814\n",
       "fid                                   2417961\n",
       "fio_flg                               2446145\n",
       "fl_birth_date                         2491260\n",
       "id                                      75683\n",
       "identification_id                       75733\n",
       "identification_status                   75683\n",
       "inn_fl                                2491246\n",
       "inn_flg                               2443582\n",
       "inn_org                               4058523\n",
       "is_foreign_ofr                         158553\n",
       "load_date                             2417961\n",
       "name_fl_rus                           2491252\n",
       "name_org_flg                          2445672\n",
       "name_org_rus                          4057959\n",
       "ogrn_flg                              2466036\n",
       "request_id                              75733\n",
       "src_bls_flg                           2417960\n",
       "src_egrn_egrul_flg                    2417961\n",
       "src_kik_flg                           2417961\n",
       "src_residency_flg                     2417961\n",
       "system_id                               75733\n",
       "_tech_action_flg                        75733\n",
       "_tech_begin_dt                          75733\n",
       "_tech_create_dt                         75733\n",
       "_tech_exec_job_id                       75733\n",
       "_tech_load_dt                           75733\n",
       "risk_account_identification_status      75733\n",
       "risk_account_category_cd              2748309\n",
       "risk_account_verification_status        75733\n",
       "risk_ofr_verification_status            75733\n",
       "risk_inn_verification_status            75733\n",
       "risk_user_change_dttm                 4131864\n",
       "fl_ru_passport_num                    4128938\n",
       "fl_forn_passport_num                  4131864\n",
       "ogrn_num                              4085153\n",
       "ogrn_ip_num                           3889290\n",
       "fl_ru_pass_flg                        4058878\n",
       "fl_forn_pass_flg                      3957609\n",
       "ogrn_ip_flg                           4058976\n",
       "tno_id                                4131864\n",
       "birthdate                             3933744\n",
       "city                                  4038621\n",
       "citysub                               4129980\n",
       "confcountrycode                       4115889\n",
       "countrycode                           4051857\n",
       "firstnamerus                          4068270\n",
       "formercountryname                     4129905\n",
       "id_fs_journalin                       3926427\n",
       "lastnamerus                           4068270\n",
       "middlenamerus                         4113222\n",
       "prface                                3926427\n",
       "tinrus                                4116003\n",
       "_tech_action_flg_                     3926427\n",
       "_tech_begin_dt_                       3926427\n",
       "_tech_create_dt_                      3926427\n",
       "_tech_exec_job_id_                    3926427\n",
       "_tech_load_dt_                        3926427\n",
       "fl_ident_countrycode                  3997353\n",
       "fl_ident_identnumber                  3994521\n",
       "fl_ident_reasoncodeind                4099689\n",
       "dtype: int64"
      ]
     },
     "execution_count": 5,
     "metadata": {},
     "output_type": "execute_result"
    }
   ],
   "source": [
    "data_raw.isnull().sum()"
   ]
  },
  {
   "cell_type": "code",
   "execution_count": 6,
   "metadata": {},
   "outputs": [
    {
     "data": {
      "text/plain": [
       "(4131864, 99)"
      ]
     },
     "execution_count": 6,
     "metadata": {},
     "output_type": "execute_result"
    }
   ],
   "source": [
    "data_raw.shape"
   ]
  },
  {
   "cell_type": "code",
   "execution_count": 7,
   "metadata": {},
   "outputs": [
    {
     "data": {
      "text/plain": [
       "Index(['transmitting_country_', 'reporting_period_', 'rcountry_',\n",
       "       'request_date_', 'request_id_', 'account_balance_', 'curr_code_',\n",
       "       'account_number_', 'account_change_', 'undocaccnt_', 'closedaccnt_',\n",
       "       'dormantaccnt_', 'type_fin_', 'account_type_', 'docrefid_',\n",
       "       'cordocrefid_', 'fin_country_', 'actual_flg_', 'request_status_',\n",
       "       'system_id_', 'payment_', 'fl_identnumber', 'fl_countrycode',\n",
       "       'ul_identnumbertype', 'ul_identnumber', 'ul_countrycode',\n",
       "       'reasoncodeent', 'reasondescription', 'res_country_code', 'account_flg',\n",
       "       'account_number', 'address_flg', 'address_fl_rus', 'address_org_rus',\n",
       "       'algorithm_id', 'birth_date_flg', 'birth_place_flg', 'birth_place_rus',\n",
       "       'change_author', 'fid', 'fio_flg', 'fl_birth_date', 'id',\n",
       "       'identification_id', 'identification_status', 'inn_fl', 'inn_flg',\n",
       "       'inn_org', 'is_foreign_ofr', 'load_date', 'name_fl_rus', 'name_org_flg',\n",
       "       'name_org_rus', 'ogrn_flg', 'request_id', 'src_bls_flg',\n",
       "       'src_egrn_egrul_flg', 'src_kik_flg', 'src_residency_flg', 'system_id',\n",
       "       '_tech_action_flg', '_tech_begin_dt', '_tech_create_dt',\n",
       "       '_tech_exec_job_id', '_tech_load_dt',\n",
       "       'risk_account_identification_status', 'risk_account_category_cd',\n",
       "       'risk_account_verification_status', 'risk_ofr_verification_status',\n",
       "       'risk_inn_verification_status', 'risk_user_change_dttm',\n",
       "       'fl_ru_passport_num', 'fl_forn_passport_num', 'ogrn_num', 'ogrn_ip_num',\n",
       "       'fl_ru_pass_flg', 'fl_forn_pass_flg', 'ogrn_ip_flg', 'tno_id',\n",
       "       'birthdate', 'city', 'citysub', 'confcountrycode', 'countrycode',\n",
       "       'firstnamerus', 'formercountryname', 'id_fs_journalin', 'lastnamerus',\n",
       "       'middlenamerus', 'prface', 'tinrus', '_tech_action_flg_',\n",
       "       '_tech_begin_dt_', '_tech_create_dt_', '_tech_exec_job_id_',\n",
       "       '_tech_load_dt_', 'fl_ident_countrycode', 'fl_ident_identnumber',\n",
       "       'fl_ident_reasoncodeind'],\n",
       "      dtype='object')"
      ]
     },
     "execution_count": 7,
     "metadata": {},
     "output_type": "execute_result"
    }
   ],
   "source": [
    "data_raw.columns"
   ]
  },
  {
   "cell_type": "code",
   "execution_count": 8,
   "metadata": {},
   "outputs": [
    {
     "data": {
      "text/html": [
       "<div>\n",
       "<style scoped>\n",
       "    .dataframe tbody tr th:only-of-type {\n",
       "        vertical-align: middle;\n",
       "    }\n",
       "\n",
       "    .dataframe tbody tr th {\n",
       "        vertical-align: top;\n",
       "    }\n",
       "\n",
       "    .dataframe thead th {\n",
       "        text-align: right;\n",
       "    }\n",
       "</style>\n",
       "<table border=\"1\" class=\"dataframe\">\n",
       "  <thead>\n",
       "    <tr style=\"text-align: right;\">\n",
       "      <th></th>\n",
       "      <th>transmitting_country_</th>\n",
       "      <th>reporting_period_</th>\n",
       "      <th>rcountry_</th>\n",
       "      <th>request_date_</th>\n",
       "      <th>request_id_</th>\n",
       "      <th>account_balance_</th>\n",
       "      <th>curr_code_</th>\n",
       "      <th>account_number_</th>\n",
       "      <th>account_change_</th>\n",
       "      <th>undocaccnt_</th>\n",
       "      <th>closedaccnt_</th>\n",
       "      <th>dormantaccnt_</th>\n",
       "      <th>type_fin_</th>\n",
       "      <th>account_type_</th>\n",
       "      <th>docrefid_</th>\n",
       "      <th>cordocrefid_</th>\n",
       "      <th>fin_country_</th>\n",
       "      <th>actual_flg_</th>\n",
       "      <th>request_status_</th>\n",
       "      <th>system_id_</th>\n",
       "      <th>payment_</th>\n",
       "      <th>fl_identnumber</th>\n",
       "      <th>fl_countrycode</th>\n",
       "      <th>ul_identnumbertype</th>\n",
       "      <th>ul_identnumber</th>\n",
       "      <th>ul_countrycode</th>\n",
       "      <th>reasoncodeent</th>\n",
       "      <th>reasondescription</th>\n",
       "      <th>res_country_code</th>\n",
       "      <th>account_flg</th>\n",
       "      <th>...</th>\n",
       "      <th>risk_inn_verification_status</th>\n",
       "      <th>risk_user_change_dttm</th>\n",
       "      <th>fl_ru_passport_num</th>\n",
       "      <th>fl_forn_passport_num</th>\n",
       "      <th>ogrn_num</th>\n",
       "      <th>ogrn_ip_num</th>\n",
       "      <th>fl_ru_pass_flg</th>\n",
       "      <th>fl_forn_pass_flg</th>\n",
       "      <th>ogrn_ip_flg</th>\n",
       "      <th>tno_id</th>\n",
       "      <th>birthdate</th>\n",
       "      <th>city</th>\n",
       "      <th>citysub</th>\n",
       "      <th>confcountrycode</th>\n",
       "      <th>countrycode</th>\n",
       "      <th>firstnamerus</th>\n",
       "      <th>formercountryname</th>\n",
       "      <th>id_fs_journalin</th>\n",
       "      <th>lastnamerus</th>\n",
       "      <th>middlenamerus</th>\n",
       "      <th>prface</th>\n",
       "      <th>tinrus</th>\n",
       "      <th>_tech_action_flg_</th>\n",
       "      <th>_tech_begin_dt_</th>\n",
       "      <th>_tech_create_dt_</th>\n",
       "      <th>_tech_exec_job_id_</th>\n",
       "      <th>_tech_load_dt_</th>\n",
       "      <th>fl_ident_countrycode</th>\n",
       "      <th>fl_ident_identnumber</th>\n",
       "      <th>fl_ident_reasoncodeind</th>\n",
       "    </tr>\n",
       "  </thead>\n",
       "  <tbody>\n",
       "    <tr>\n",
       "      <th>0</th>\n",
       "      <td>RU</td>\n",
       "      <td>2017-01-01</td>\n",
       "      <td>RU</td>\n",
       "      <td>2018-07-24</td>\n",
       "      <td>6441.0</td>\n",
       "      <td>0.0</td>\n",
       "      <td>RUB</td>\n",
       "      <td>42103810942670000129</td>\n",
       "      <td>OECD1</td>\n",
       "      <td>NaN</td>\n",
       "      <td>1.0</td>\n",
       "      <td>NaN</td>\n",
       "      <td>3.0</td>\n",
       "      <td>NaN</td>\n",
       "      <td>RU2017-7701105460-6FB27946-2245-30F0-E053-24FE...</td>\n",
       "      <td>NaN</td>\n",
       "      <td>РОССИЯ</td>\n",
       "      <td>True</td>\n",
       "      <td>0.0</td>\n",
       "      <td>FIN_ACCOUNTS</td>\n",
       "      <td>NaN</td>\n",
       "      <td>NaN</td>\n",
       "      <td>NaN</td>\n",
       "      <td>TIN</td>\n",
       "      <td>9102001987</td>\n",
       "      <td>RU</td>\n",
       "      <td>NaN</td>\n",
       "      <td>NaN</td>\n",
       "      <td>RU</td>\n",
       "      <td>NaN</td>\n",
       "      <td>...</td>\n",
       "      <td>3.0</td>\n",
       "      <td>NaN</td>\n",
       "      <td>NaN</td>\n",
       "      <td>NaN</td>\n",
       "      <td>1.149102e+12</td>\n",
       "      <td>NaN</td>\n",
       "      <td>False</td>\n",
       "      <td>False</td>\n",
       "      <td>False</td>\n",
       "      <td>NaN</td>\n",
       "      <td>1972-11-13</td>\n",
       "      <td>NaN</td>\n",
       "      <td>NaN</td>\n",
       "      <td>NaN</td>\n",
       "      <td>NaN</td>\n",
       "      <td>NaN</td>\n",
       "      <td>NaN</td>\n",
       "      <td>282363641.0</td>\n",
       "      <td>NaN</td>\n",
       "      <td>NaN</td>\n",
       "      <td>2.0</td>\n",
       "      <td>NaN</td>\n",
       "      <td>I</td>\n",
       "      <td>1900-01-01 00:00:00</td>\n",
       "      <td>2019-07-23 14:52:47</td>\n",
       "      <td>8000069.0</td>\n",
       "      <td>2019-07-23 14:52:53</td>\n",
       "      <td>NaN</td>\n",
       "      <td>NaN</td>\n",
       "      <td>NaN</td>\n",
       "    </tr>\n",
       "    <tr>\n",
       "      <th>1</th>\n",
       "      <td>RU</td>\n",
       "      <td>2017-01-01</td>\n",
       "      <td>RU</td>\n",
       "      <td>2018-07-24</td>\n",
       "      <td>6441.0</td>\n",
       "      <td>0.0</td>\n",
       "      <td>RUB</td>\n",
       "      <td>42103810942670000129</td>\n",
       "      <td>OECD1</td>\n",
       "      <td>NaN</td>\n",
       "      <td>1.0</td>\n",
       "      <td>NaN</td>\n",
       "      <td>3.0</td>\n",
       "      <td>NaN</td>\n",
       "      <td>RU2017-7701105460-6FB27946-2245-30F0-E053-24FE...</td>\n",
       "      <td>NaN</td>\n",
       "      <td>РОССИЯ</td>\n",
       "      <td>True</td>\n",
       "      <td>0.0</td>\n",
       "      <td>FIN_ACCOUNTS</td>\n",
       "      <td>NaN</td>\n",
       "      <td>NaN</td>\n",
       "      <td>NaN</td>\n",
       "      <td>TIN</td>\n",
       "      <td>9102001987</td>\n",
       "      <td>RU</td>\n",
       "      <td>NaN</td>\n",
       "      <td>NaN</td>\n",
       "      <td>RU</td>\n",
       "      <td>NaN</td>\n",
       "      <td>...</td>\n",
       "      <td>3.0</td>\n",
       "      <td>NaN</td>\n",
       "      <td>NaN</td>\n",
       "      <td>NaN</td>\n",
       "      <td>1.149102e+12</td>\n",
       "      <td>NaN</td>\n",
       "      <td>False</td>\n",
       "      <td>False</td>\n",
       "      <td>False</td>\n",
       "      <td>NaN</td>\n",
       "      <td>1972-11-13</td>\n",
       "      <td>NaN</td>\n",
       "      <td>NaN</td>\n",
       "      <td>NaN</td>\n",
       "      <td>NaN</td>\n",
       "      <td>NaN</td>\n",
       "      <td>NaN</td>\n",
       "      <td>282363641.0</td>\n",
       "      <td>NaN</td>\n",
       "      <td>NaN</td>\n",
       "      <td>2.0</td>\n",
       "      <td>NaN</td>\n",
       "      <td>D</td>\n",
       "      <td>2020-05-28 00:45:53</td>\n",
       "      <td>2019-07-23 14:52:47</td>\n",
       "      <td>73214608.0</td>\n",
       "      <td>2020-05-28 00:45:53</td>\n",
       "      <td>NaN</td>\n",
       "      <td>NaN</td>\n",
       "      <td>NaN</td>\n",
       "    </tr>\n",
       "    <tr>\n",
       "      <th>2</th>\n",
       "      <td>RU</td>\n",
       "      <td>2017-01-01</td>\n",
       "      <td>RU</td>\n",
       "      <td>2018-07-24</td>\n",
       "      <td>6441.0</td>\n",
       "      <td>0.0</td>\n",
       "      <td>RUB</td>\n",
       "      <td>42103810942670000129</td>\n",
       "      <td>OECD1</td>\n",
       "      <td>NaN</td>\n",
       "      <td>1.0</td>\n",
       "      <td>NaN</td>\n",
       "      <td>3.0</td>\n",
       "      <td>NaN</td>\n",
       "      <td>RU2017-7701105460-6FB27946-2245-30F0-E053-24FE...</td>\n",
       "      <td>NaN</td>\n",
       "      <td>РОССИЯ</td>\n",
       "      <td>True</td>\n",
       "      <td>0.0</td>\n",
       "      <td>FIN_ACCOUNTS</td>\n",
       "      <td>NaN</td>\n",
       "      <td>NaN</td>\n",
       "      <td>NaN</td>\n",
       "      <td>TIN</td>\n",
       "      <td>9102001987</td>\n",
       "      <td>RU</td>\n",
       "      <td>NaN</td>\n",
       "      <td>NaN</td>\n",
       "      <td>RU</td>\n",
       "      <td>NaN</td>\n",
       "      <td>...</td>\n",
       "      <td>3.0</td>\n",
       "      <td>NaN</td>\n",
       "      <td>NaN</td>\n",
       "      <td>NaN</td>\n",
       "      <td>1.149102e+12</td>\n",
       "      <td>NaN</td>\n",
       "      <td>False</td>\n",
       "      <td>False</td>\n",
       "      <td>False</td>\n",
       "      <td>NaN</td>\n",
       "      <td>1972-11-13</td>\n",
       "      <td>NaN</td>\n",
       "      <td>NaN</td>\n",
       "      <td>NaN</td>\n",
       "      <td>NaN</td>\n",
       "      <td>NaN</td>\n",
       "      <td>NaN</td>\n",
       "      <td>282363641.0</td>\n",
       "      <td>NaN</td>\n",
       "      <td>NaN</td>\n",
       "      <td>2.0</td>\n",
       "      <td>NaN</td>\n",
       "      <td>I</td>\n",
       "      <td>2020-05-28 01:56:46</td>\n",
       "      <td>2019-07-23 14:52:47</td>\n",
       "      <td>73214776.0</td>\n",
       "      <td>2020-05-28 01:56:46</td>\n",
       "      <td>NaN</td>\n",
       "      <td>NaN</td>\n",
       "      <td>NaN</td>\n",
       "    </tr>\n",
       "  </tbody>\n",
       "</table>\n",
       "<p>3 rows × 99 columns</p>\n",
       "</div>"
      ],
      "text/plain": [
       "  transmitting_country_ reporting_period_ rcountry_ request_date_  \\\n",
       "0                    RU        2017-01-01        RU    2018-07-24   \n",
       "1                    RU        2017-01-01        RU    2018-07-24   \n",
       "2                    RU        2017-01-01        RU    2018-07-24   \n",
       "\n",
       "   request_id_  account_balance_ curr_code_       account_number_  \\\n",
       "0       6441.0               0.0        RUB  42103810942670000129   \n",
       "1       6441.0               0.0        RUB  42103810942670000129   \n",
       "2       6441.0               0.0        RUB  42103810942670000129   \n",
       "\n",
       "  account_change_  undocaccnt_  closedaccnt_  dormantaccnt_  type_fin_  \\\n",
       "0           OECD1          NaN           1.0            NaN        3.0   \n",
       "1           OECD1          NaN           1.0            NaN        3.0   \n",
       "2           OECD1          NaN           1.0            NaN        3.0   \n",
       "\n",
       "  account_type_                                          docrefid_  \\\n",
       "0           NaN  RU2017-7701105460-6FB27946-2245-30F0-E053-24FE...   \n",
       "1           NaN  RU2017-7701105460-6FB27946-2245-30F0-E053-24FE...   \n",
       "2           NaN  RU2017-7701105460-6FB27946-2245-30F0-E053-24FE...   \n",
       "\n",
       "  cordocrefid_ fin_country_ actual_flg_  request_status_    system_id_  \\\n",
       "0          NaN       РОССИЯ        True              0.0  FIN_ACCOUNTS   \n",
       "1          NaN       РОССИЯ        True              0.0  FIN_ACCOUNTS   \n",
       "2          NaN       РОССИЯ        True              0.0  FIN_ACCOUNTS   \n",
       "\n",
       "   payment_ fl_identnumber fl_countrycode ul_identnumbertype ul_identnumber  \\\n",
       "0       NaN            NaN            NaN                TIN     9102001987   \n",
       "1       NaN            NaN            NaN                TIN     9102001987   \n",
       "2       NaN            NaN            NaN                TIN     9102001987   \n",
       "\n",
       "  ul_countrycode  reasoncodeent reasondescription res_country_code  \\\n",
       "0             RU            NaN               NaN               RU   \n",
       "1             RU            NaN               NaN               RU   \n",
       "2             RU            NaN               NaN               RU   \n",
       "\n",
       "  account_flg  ... risk_inn_verification_status risk_user_change_dttm  \\\n",
       "0         NaN  ...                          3.0                   NaN   \n",
       "1         NaN  ...                          3.0                   NaN   \n",
       "2         NaN  ...                          3.0                   NaN   \n",
       "\n",
       "  fl_ru_passport_num fl_forn_passport_num      ogrn_num ogrn_ip_num  \\\n",
       "0                NaN                  NaN  1.149102e+12         NaN   \n",
       "1                NaN                  NaN  1.149102e+12         NaN   \n",
       "2                NaN                  NaN  1.149102e+12         NaN   \n",
       "\n",
       "  fl_ru_pass_flg fl_forn_pass_flg ogrn_ip_flg  tno_id   birthdate city  \\\n",
       "0          False            False       False     NaN  1972-11-13  NaN   \n",
       "1          False            False       False     NaN  1972-11-13  NaN   \n",
       "2          False            False       False     NaN  1972-11-13  NaN   \n",
       "\n",
       "  citysub confcountrycode  countrycode  firstnamerus formercountryname  \\\n",
       "0     NaN             NaN          NaN           NaN               NaN   \n",
       "1     NaN             NaN          NaN           NaN               NaN   \n",
       "2     NaN             NaN          NaN           NaN               NaN   \n",
       "\n",
       "   id_fs_journalin lastnamerus middlenamerus prface tinrus _tech_action_flg_  \\\n",
       "0      282363641.0         NaN           NaN    2.0    NaN                 I   \n",
       "1      282363641.0         NaN           NaN    2.0    NaN                 D   \n",
       "2      282363641.0         NaN           NaN    2.0    NaN                 I   \n",
       "\n",
       "       _tech_begin_dt_     _tech_create_dt_ _tech_exec_job_id_  \\\n",
       "0  1900-01-01 00:00:00  2019-07-23 14:52:47          8000069.0   \n",
       "1  2020-05-28 00:45:53  2019-07-23 14:52:47         73214608.0   \n",
       "2  2020-05-28 01:56:46  2019-07-23 14:52:47         73214776.0   \n",
       "\n",
       "        _tech_load_dt_ fl_ident_countrycode fl_ident_identnumber  \\\n",
       "0  2019-07-23 14:52:53                  NaN                  NaN   \n",
       "1  2020-05-28 00:45:53                  NaN                  NaN   \n",
       "2  2020-05-28 01:56:46                  NaN                  NaN   \n",
       "\n",
       "  fl_ident_reasoncodeind  \n",
       "0                    NaN  \n",
       "1                    NaN  \n",
       "2                    NaN  \n",
       "\n",
       "[3 rows x 99 columns]"
      ]
     },
     "execution_count": 8,
     "metadata": {},
     "output_type": "execute_result"
    }
   ],
   "source": [
    "data_raw.head(3)"
   ]
  },
  {
   "cell_type": "code",
   "execution_count": 9,
   "metadata": {
    "scrolled": true
   },
   "outputs": [
    {
     "data": {
      "text/plain": [
       "RU                4131593\n",
       "1                       3\n",
       "ОСТРОВА КАЙМАН          2\n",
       "Name: rcountry_, dtype: int64"
      ]
     },
     "execution_count": 9,
     "metadata": {},
     "output_type": "execute_result"
    }
   ],
   "source": [
    "# rcountry - Страна получатель \n",
    "data_raw.rcountry_.value_counts()"
   ]
  },
  {
   "cell_type": "code",
   "execution_count": 10,
   "metadata": {
    "scrolled": true
   },
   "outputs": [
    {
     "data": {
      "text/plain": [
       "RU    2714244\n",
       "CY     265853\n",
       "CZ     125094\n",
       "DE     106287\n",
       "CN      96967\n",
       "Name: transmitting_country_, dtype: int64"
      ]
     },
     "execution_count": 10,
     "metadata": {},
     "output_type": "execute_result"
    }
   ],
   "source": [
    "# fin_country - Наименование страны финансовой организации\n",
    "# transmitting_country - Код государства, отправившего сведения об идентифицируемом лице\n",
    "data_raw.transmitting_country_.value_counts().head()"
   ]
  },
  {
   "cell_type": "code",
   "execution_count": 11,
   "metadata": {},
   "outputs": [
    {
     "data": {
      "text/plain": [
       "RU    79486\n",
       "CY    35285\n",
       "NL     9032\n",
       "RO     8828\n",
       "VG     6466\n",
       "Name: ul_countrycode, dtype: int64"
      ]
     },
     "execution_count": 11,
     "metadata": {},
     "output_type": "execute_result"
    }
   ],
   "source": [
    "# Принадлежность тинов к странам?\n",
    "# fl_countrycode- fl.countrycode - код страны\n",
    "data_raw.ul_countrycode.value_counts().head()"
   ]
  },
  {
   "cell_type": "code",
   "execution_count": 12,
   "metadata": {},
   "outputs": [
    {
     "data": {
      "text/plain": [
       "RU    1516500\n",
       "UA     501367\n",
       "BY     324007\n",
       "UZ     292219\n",
       "TJ     161461\n",
       "Name: res_country_code, dtype: int64"
      ]
     },
     "execution_count": 12,
     "metadata": {},
     "output_type": "execute_result"
    }
   ],
   "source": [
    "#res_country_code - Код страны, резидентом которой является идентифицируемый субъект\n",
    "#rcountry - cтрана получатель\n",
    "data_raw.res_country_code.value_counts().head()"
   ]
  },
  {
   "cell_type": "code",
   "execution_count": 13,
   "metadata": {},
   "outputs": [
    {
     "name": "stdout",
     "output_type": "stream",
     "text": [
      "Количество строк в данных по России за все время:  1328679\n"
     ]
    }
   ],
   "source": [
    "# Выделяю данные, где страна, отправившая данные, не Россия, а страна тина - Россия\n",
    "mask_null_flcc = data_raw.index.isin(data_raw[data_raw['fl_countrycode'].isnull().values].index)\n",
    "data_tin_rus = data_raw[(data_raw['transmitting_country_'] != 'RU') & ((data_raw['fl_countrycode'] == 'RU') | (mask_null_flcc))]\n",
    "data_tin_rus.reset_index(drop = True, inplace = True)\n",
    "print('Количество строк в данных по России за все время: ', data_tin_rus.shape[0])"
   ]
  },
  {
   "cell_type": "code",
   "execution_count": 14,
   "metadata": {},
   "outputs": [],
   "source": [
    "data_fl = data_tin_rus[(data_tin_rus['type_fin_']==1)]"
   ]
  },
  {
   "cell_type": "code",
   "execution_count": 15,
   "metadata": {},
   "outputs": [
    {
     "data": {
      "text/plain": [
       "(1128653, 99)"
      ]
     },
     "execution_count": 15,
     "metadata": {},
     "output_type": "execute_result"
    }
   ],
   "source": [
    "data_fl = data_fl[data_fl._tech_action_flg != 'D']\n",
    "data_fl = data_fl.drop_duplicates(subset = ['request_id'], ignore_index=True)\n",
    "data_fl.shape"
   ]
  },
  {
   "cell_type": "code",
   "execution_count": 16,
   "metadata": {},
   "outputs": [
    {
     "name": "stdout",
     "output_type": "stream",
     "text": [
      "Number of cordocrefid:  27115\n",
      "Актуальных строк:  1101540\n",
      "CPU times: user 7min 1s, sys: 1 s, total: 7min 2s\n",
      "Wall time: 6min 57s\n"
     ]
    }
   ],
   "source": [
    "%%time\n",
    "# Оставляю только актуальные записи\n",
    "\n",
    "cordocrefid = data_fl.cordocrefid_[data_fl['cordocrefid_'].str.contains('.', case = False, \n",
    "                                                                                    regex=True, na=False)]\n",
    "print('Number of cordocrefid: ', cordocrefid.shape[0])\n",
    "\n",
    "mask_docrefid = data_fl['docrefid_'].apply(utils.filter_actual_docrefid, cordocrefid = cordocrefid)\n",
    "\n",
    "data_actual = data_fl[mask_docrefid]\n",
    "print('Актуальных строк: ', data_actual.shape[0])"
   ]
  },
  {
   "cell_type": "code",
   "execution_count": 17,
   "metadata": {},
   "outputs": [],
   "source": [
    "#data_actual.to_csv(SOURCE_FOLDER+'data_fl_all.csv')\n",
    "# data_actual = pd.read_csv(SOURCE_FOLDER+'data_fl_all.csv')"
   ]
  },
  {
   "cell_type": "code",
   "execution_count": 18,
   "metadata": {},
   "outputs": [
    {
     "data": {
      "text/plain": [
       "2018-12-31    592204\n",
       "2017-12-31    478176\n",
       "2016-12-31     17385\n",
       "2019-03-31     10396\n",
       "2018-03-31      1951\n",
       "2019-02-28       747\n",
       "2018-02-28       681\n",
       "Name: reporting_period_, dtype: int64"
      ]
     },
     "execution_count": 18,
     "metadata": {},
     "output_type": "execute_result"
    }
   ],
   "source": [
    "data_actual['reporting_period_'].value_counts()"
   ]
  },
  {
   "cell_type": "code",
   "execution_count": 19,
   "metadata": {},
   "outputs": [
    {
     "name": "stderr",
     "output_type": "stream",
     "text": [
      "/home/jane/3005/lib/python3.7/site-packages/ipykernel_launcher.py:2: SettingWithCopyWarning: \n",
      "A value is trying to be set on a copy of a slice from a DataFrame.\n",
      "Try using .loc[row_indexer,col_indexer] = value instead\n",
      "\n",
      "See the caveats in the documentation: https://pandas.pydata.org/pandas-docs/stable/user_guide/indexing.html#returning-a-view-versus-a-copy\n",
      "  \n",
      "/home/jane/3005/lib/python3.7/site-packages/ipykernel_launcher.py:3: SettingWithCopyWarning: \n",
      "A value is trying to be set on a copy of a slice from a DataFrame.\n",
      "Try using .loc[row_indexer,col_indexer] = value instead\n",
      "\n",
      "See the caveats in the documentation: https://pandas.pydata.org/pandas-docs/stable/user_guide/indexing.html#returning-a-view-versus-a-copy\n",
      "  This is separate from the ipykernel package so we can avoid doing imports until\n"
     ]
    }
   ],
   "source": [
    "# Разделяю данные по годам: год - это первые 4 цифры из reporting_period\n",
    "data_actual['reporting_period_'] = data_actual['reporting_period_'].astype('str')\n",
    "data_actual['reporting_year'] = data_actual.reporting_period_.apply(lambda x: x[:4])"
   ]
  },
  {
   "cell_type": "code",
   "execution_count": 20,
   "metadata": {},
   "outputs": [],
   "source": [
    "data_actual = data_actual.rename(columns={\"fl_identnumber\": \"identnumber\", 'docrefid_':'docrefid'})"
   ]
  },
  {
   "cell_type": "code",
   "execution_count": 21,
   "metadata": {},
   "outputs": [],
   "source": [
    "data_actual.identnumber = data_actual.identnumber.astype('str')"
   ]
  },
  {
   "cell_type": "markdown",
   "metadata": {},
   "source": [
    "## Анализ качества данных за 2017 год"
   ]
  },
  {
   "cell_type": "code",
   "execution_count": 22,
   "metadata": {},
   "outputs": [
    {
     "name": "stdout",
     "output_type": "stream",
     "text": [
      "Кол-во строк:  478176\n",
      "Кол-во тинов после выборки из повторных docrefid:  478176\n"
     ]
    },
    {
     "name": "stderr",
     "output_type": "stream",
     "text": [
      "/home/jane/3005/lib/python3.7/site-packages/ipykernel_launcher.py:12: DeprecationWarning: The default dtype for empty Series will be 'object' instead of 'float64' in a future version. Specify a dtype explicitly to silence this warning.\n",
      "  if sys.path[0] == '':\n"
     ]
    }
   ],
   "source": [
    "data_17 = data_actual[data_actual['reporting_year'] == '2017']\n",
    "data_17.reset_index(drop = True, inplace = True)\n",
    "print('Кол-во строк: ', data_17.shape[0])\n",
    "\n",
    "# Делю данные: отдельно с docrefid, к которым больше одного тина и к которым один или пусто\n",
    "more1tin_per_dri_17, tin1_per_dri_17 = utils.separate_tins_by_docrefid(data_17)\n",
    "\n",
    "# Выделяю по одному тину для каждой записи docrefid, в которых больше одного тина\n",
    "selected_tins = utils.select_one_identnumber_for_dri_ul(data_17, more1tin_per_dri_17.docrefid.unique())\n",
    "\n",
    "# Добавляю выделенные тины, которые были отобраны из повторяющихся записей docrefid к остальным\n",
    "tin_17 = tin1_per_dri_17.identnumber.append(pd.Series(selected_tins), ignore_index = True)\n",
    "print('Кол-во тинов после выборки из повторных docrefid: ', tin_17.shape[0])"
   ]
  },
  {
   "cell_type": "code",
   "execution_count": 23,
   "metadata": {},
   "outputs": [
    {
     "name": "stdout",
     "output_type": "stream",
     "text": [
      "Содержат цифры: 49.4 %\n",
      "Содержат ТОЛЬКО буквы/символы: 7.3 %\n",
      "\n",
      "Содержат ТОЛЬКО цифры: 45.4 %\n",
      "Потенциально качественные 9,10,12: 24.8 %\n",
      "Данные с лишними цифрами >12: 1.6 %\n",
      "Неполные данные : 19.0 %\n",
      "\n",
      "Потенциально качественные загран: 3.1 %\n",
      "Потенциально качественные росс.пасп или ИНН ЮЛ: 1.6 %\n",
      "Потенциально качественные ИНН: 13.7 %\n",
      "Невалидные документы: 6.0 %\n",
      "\n",
      "Зашумленные данные: 4.0 %\n",
      "Потенциально качественные 9,10,12 после преобразований: 1.1 %\n",
      "Данные с лишними цифрами >12 после преобразований: 0.2 %\n",
      "Неполные данные после преобразований : 2.8 %\n",
      "\n",
      "Потенциально качественные загран после преобразований: 0.4 %\n",
      "Потенциально качественные росс.пасп или ИНН ЮЛ после преобразований: 0.1 %\n",
      "Потенциально качественные ИНН после преобразований: 0.4 %\n",
      "Невалидные документы после преобразований: 0.2 %\n",
      "\n",
      "Потенциально качественные ИНН после добавления/удаления цифры: 0.3 %\n",
      "Потенциально качественные ИНН ЮЛ после добавления цифры: 0.1 %\n",
      "Потенциально качественные ИНН после добавления/удаления цифры: 0.3 %\n",
      "\n",
      "КАЧЕСТВЕННЫЕ ДАННЫЕ: 18.4 %\n",
      "НЕКАЧЕСТВЕННЫЕ ДАННЫЕ: 37.1 %\n",
      "КАЧЕСТВЕННЫЕ ДАННЫЕ после преобразований: 1.2 %\n",
      "ДАННЫЕ НЕ ПРЕДОСТАВЛЕНЫ: 43.3 %\n"
     ]
    }
   ],
   "source": [
    "good_quality, poor_quality, good_after, empty, not_digit, tin_less9, tin_less9_post = define_quality_fl(tin_17, return_statistics = True, return_tins = True)"
   ]
  },
  {
   "cell_type": "markdown",
   "metadata": {},
   "source": [
    "## Анализ качества данных за 2018 год"
   ]
  },
  {
   "cell_type": "code",
   "execution_count": 24,
   "metadata": {},
   "outputs": [
    {
     "name": "stdout",
     "output_type": "stream",
     "text": [
      "Кол-во строк:  594836\n",
      "Кол-во тинов после выборки из повторных docrefid:  594836\n"
     ]
    },
    {
     "name": "stderr",
     "output_type": "stream",
     "text": [
      "/home/jane/3005/lib/python3.7/site-packages/ipykernel_launcher.py:12: DeprecationWarning: The default dtype for empty Series will be 'object' instead of 'float64' in a future version. Specify a dtype explicitly to silence this warning.\n",
      "  if sys.path[0] == '':\n"
     ]
    }
   ],
   "source": [
    "data_18 = data_actual[data_actual['reporting_year'] == '2018']\n",
    "data_18.reset_index(drop = True, inplace = True)\n",
    "print('Кол-во строк: ', data_18.shape[0])\n",
    "\n",
    "# Делю данные: отдельно с docrefid, к которым больше одного тина и к которым один или пусто\n",
    "more1tin_per_dri_18, tin1_per_dri_18 = utils.separate_tins_by_docrefid(data_18)\n",
    "\n",
    "# Выделяю по одному тину для каждой записи docrefid, в которых больше одного тина\n",
    "selected_tins = utils.select_one_identnumber_for_dri_ul(data_18, more1tin_per_dri_18.docrefid.unique())\n",
    "\n",
    "# Добавляю выделенные тины, которые были отобраны из повторяющихся записей docrefid к остальным\n",
    "tin_18 = tin1_per_dri_18.identnumber.append(pd.Series(selected_tins), ignore_index = True)\n",
    "print('Кол-во тинов после выборки из повторных docrefid: ', tin_18.shape[0])"
   ]
  },
  {
   "cell_type": "code",
   "execution_count": 25,
   "metadata": {},
   "outputs": [
    {
     "name": "stdout",
     "output_type": "stream",
     "text": [
      "Содержат цифры: 37.9 %\n",
      "Содержат ТОЛЬКО буквы/символы: 7.6 %\n",
      "\n",
      "Содержат ТОЛЬКО цифры: 32.7 %\n",
      "Потенциально качественные 9,10,12: 28.5 %\n",
      "Данные с лишними цифрами >12: 0.8 %\n",
      "Неполные данные : 3.3 %\n",
      "\n",
      "Потенциально качественные загран: 1.2 %\n",
      "Потенциально качественные росс.пасп или ИНН ЮЛ: 1.1 %\n",
      "Потенциально качественные ИНН: 20.1 %\n",
      "Невалидные документы: 5.9 %\n",
      "\n",
      "Зашумленные данные: 5.3 %\n",
      "Потенциально качественные 9,10,12 после преобразований: 1.0 %\n",
      "Данные с лишними цифрами >12 после преобразований: 0.2 %\n",
      "Неполные данные после преобразований : 4.1 %\n",
      "\n",
      "Потенциально качественные загран после преобразований: 0.1 %\n",
      "Потенциально качественные росс.пасп или ИНН ЮЛ после преобразований: 0.1 %\n",
      "Потенциально качественные ИНН после преобразований: 0.5 %\n",
      "Невалидные документы после преобразований: 0.2 %\n",
      "\n",
      "Потенциально качественные ИНН после добавления/удаления цифры: 0.3 %\n",
      "Потенциально качественные ИНН ЮЛ после добавления цифры: 0.0 %\n",
      "Потенциально качественные ИНН после добавления/удаления цифры: 0.3 %\n",
      "\n",
      "КАЧЕСТВЕННЫЕ ДАННЫЕ: 22.3 %\n",
      "НЕКАЧЕСТВЕННЫЕ ДАННЫЕ: 22.2 %\n",
      "КАЧЕСТВЕННЫЕ ДАННЫЕ после преобразований: 1.1 %\n",
      "ДАННЫЕ НЕ ПРЕДОСТАВЛЕНЫ: 54.5 %\n"
     ]
    }
   ],
   "source": [
    "good_quality18, poor_quality18, good_after18, empty18, not_digit18, tin_less918, tin_less9_post18 = define_quality_fl(tin_18, return_statistics = True, return_tins = True)"
   ]
  },
  {
   "cell_type": "code",
   "execution_count": 26,
   "metadata": {},
   "outputs": [],
   "source": [
    "pd.Series(list(set(not_digit + not_digit18))).to_excel('no_digits_utf.xlsx')"
   ]
  },
  {
   "cell_type": "code",
   "execution_count": 51,
   "metadata": {},
   "outputs": [
    {
     "data": {
      "image/png": "[encoded data removed]",
      "text/plain": [
       "<Figure size 720x504 with 1 Axes>"
      ]
     },
     "metadata": {
      "needs_background": "light"
     },
     "output_type": "display_data"
    }
   ],
   "source": [
    "years = ['2017', '2018']\n",
    "stats_df_year = utils.stats_year(years, [tin_17, tin_18], sset = 'fl')\n",
    "stats_df_year.plot(stacked=True, kind='bar', figsize = (10,7), color=['green', 'red', 'blue','white'],\n",
    "                  title = 'FL');\n",
    "plt.savefig('year_fl.png')"
   ]
  },
  {
   "cell_type": "markdown",
   "metadata": {},
   "source": [
    "# Качество identnumber vs Идентификация по identnumber"
   ]
  },
  {
   "cell_type": "code",
   "execution_count": 52,
   "metadata": {},
   "outputs": [],
   "source": [
    "flgs = ['account_flg', 'address_flg', 'birth_date_flg', 'birth_place_flg', 'fio_flg', 'inn_flg', \n",
    "        'name_org_flg', 'fl_ru_pass_flg', 'fl_forn_pass_flg']\n",
    "\n",
    "flgs_db = ['ogrn_flg', 'src_bls_flg', 'src_egrn_egrul_flg', 'src_kik_flg', 'src_residency_flg', 'ogrn_ip_flg']"
   ]
  },
  {
   "cell_type": "code",
   "execution_count": 53,
   "metadata": {},
   "outputs": [],
   "source": [
    "def quality_vs_ident(data_y):\n",
    "    print(data_y.identification_status.value_counts())\n",
    "    # идентифицировано\n",
    "    ide = round(100 * data_y[(data_y.identification_status == 1)].shape[0]/data_y.shape[0],2)\n",
    "    print('Идентифицировано: ', ide)\n",
    "    # на верификацию\n",
    "    verif = round(100 * data_y[(data_y.identification_status == 2)].shape[0]/data_y.shape[0],2)\n",
    "    print('На верификацию: ', verif)\n",
    "    print('Идент + вериф: ', ide + verif)\n",
    "    \n",
    "    # идентифицировано по инн\n",
    "    print('\\nИдентифицировано или на вериф-ю по инн: ',round(100*data_y.inn_flg[data_y.inn_flg == True].shape[0]/data_y.shape[0],2))\n",
    "     \n",
    "    for f in flgs:\n",
    "        print(f,':', data_y[f][data_y[f] == True].shape[0])\n",
    "    n_db = 0\n",
    "    print(\"\\nDB\")\n",
    "    for f in flgs_db:\n",
    "    \n",
    "        n = data_y[f][data_y[f] == True].shape[0]\n",
    "        print(f,':', n)\n",
    "        n_db += n\n",
    "    print(n_db)\n",
    "    \n",
    "    \n",
    "    print('\\nКАЧЕСТВО ВСЕЙ ВЫБОРКИ')\n",
    "    zag1, pas1, inn1, zag_p1, pas_p1, inn_p1, inn_ul_add1, inn_add1 = define_quality_fl(data_y.identnumber, \n",
    "                                                                                return_statistics=True, \n",
    "                                                                                eval_quality = True)\n",
    "    \n",
    "    good_qual1, _, good_after1, _ = define_quality_fl(data_y.identnumber, return_tins = True)\n",
    "    \n",
    "    data_ide_inn = data_y.identnumber[(data_y.inn_flg == True)]\n",
    "    print(data_ide_inn.shape)\n",
    "    \n",
    "    print('\\nИДЕНТИФИЦИРОВАНО ИЛИ НА ВЕРИФИКАЦИЮ по ИНН\\n')\n",
    "    zag2, pas2, inn2, zag_p2, pas_p2, inn_p2, inn_ul_add2, inn_add2 = define_quality_fl(data_ide_inn, \n",
    "                                                                                        return_statistics=True,\n",
    "                                                                                        eval_quality = True)\n",
    "    \n",
    "    good_qual2, _, good_after2, _ = define_quality_fl(data_ide_inn, return_tins = True)\n",
    "    \n",
    "    \n",
    "#     for name, s1, s2 in zip(['zag', 'pas', 'inn', 'zag_p', 'pas_p', 'inn_p', 'inn_ul_add', 'inn_add'],\n",
    "#                             [zag1, pas1, inn1, zag_p1, pas_p1, inn_p1, inn_ul_add1, inn_add1],\n",
    "#                             [zag2, pas2, inn2, zag_p2, pas_p2, inn_p2, inn_ul_add2, inn_add2]):\n",
    "        \n",
    "#         print(name, round(s1*100 - (s2*100 * data_ide_inn.shape[0])/data_y.shape[0],1))\n",
    "        \n",
    "    \n",
    "#     idx1 = []\n",
    "#     for tin in tqdm(list(set(good_qual1) - set(good_qual2))):\n",
    "#         for i in data_y[data_y.identnumber == tin].index:\n",
    "#             idx1.append(i)\n",
    "#     idst = data_y.identification_status.iloc[idx1]\n",
    "#     qual_dif = round(100 * idst[(idst == 2) | (idst == 3)].shape[0]/data_y.shape[0], 2)\n",
    "#     print('Качественных, но не идентифицированных или на верификацию, %: ', qual_dif)\n",
    "#     print(idst.value_counts().sort_index())\n",
    "    \n",
    "#     idx2 = []\n",
    "#     for tin in tqdm(list(set(good_after1) - set(good_after2))):\n",
    "#         for i in data_y[data_y.identnumber == tin].index:\n",
    "#             idx2.append(i)\n",
    "#     idst = data_y.identification_status.iloc[idx2]\n",
    "#     qual_after_dif = round(100 * idst[(idst == 2) | (idst == 3)].shape[0]/data_y.shape[0], 2)\n",
    "#     print('Качественных после обработки, но не идентифицированных или на верификацию, %: ', qual_after_dif)\n",
    "#     print(idst.value_counts().sort_index())\n",
    "    \n",
    "#     print('Потенциальное увеличение идентификации на {} %'.format(qual_dif+qual_after_dif))\n",
    "        \n",
    "    return good_qual1, good_qual2, good_after1, good_after2 #, idx1, idx2\n",
    "    "
   ]
  },
  {
   "cell_type": "code",
   "execution_count": 17,
   "metadata": {},
   "outputs": [
    {
     "data": {
      "text/plain": [
       "63355"
      ]
     },
     "execution_count": 17,
     "metadata": {},
     "output_type": "execute_result"
    }
   ],
   "source": [
    "data_17.identnumber[(data_17.inn_flg == True) & (data_17.birth_date_flg == True)].shape[0]"
   ]
  },
  {
   "cell_type": "code",
   "execution_count": 18,
   "metadata": {},
   "outputs": [
    {
     "data": {
      "text/plain": [
       "260891"
      ]
     },
     "execution_count": 18,
     "metadata": {},
     "output_type": "execute_result"
    }
   ],
   "source": [
    "data_17.identnumber[(data_17.fio_flg == True) & (data_17.birth_date_flg == True)].shape[0]"
   ]
  },
  {
   "cell_type": "code",
   "execution_count": 19,
   "metadata": {},
   "outputs": [
    {
     "data": {
      "text/plain": [
       "48064"
      ]
     },
     "execution_count": 19,
     "metadata": {},
     "output_type": "execute_result"
    }
   ],
   "source": [
    "data_17.identnumber[(data_17.inn_flg == True) & (data_17.fio_flg == True)].shape[0]"
   ]
  },
  {
   "cell_type": "code",
   "execution_count": 20,
   "metadata": {},
   "outputs": [
    {
     "data": {
      "text/plain": [
       "47347"
      ]
     },
     "execution_count": 20,
     "metadata": {},
     "output_type": "execute_result"
    }
   ],
   "source": [
    "data_17.identnumber[(data_17.fio_flg == True) & (data_17.birth_date_flg == True) & (data_17.inn_flg == True)].shape[0]"
   ]
  },
  {
   "cell_type": "code",
   "execution_count": 54,
   "metadata": {
    "scrolled": false
   },
   "outputs": [
    {
     "name": "stdout",
     "output_type": "stream",
     "text": [
      "1.0    284088\n",
      "3.0    185802\n",
      "2.0      8286\n",
      "Name: identification_status, dtype: int64\n",
      "Идентифицировано:  59.41\n",
      "На верификацию:  1.73\n",
      "Идент + вериф:  61.13999999999999\n",
      "\n",
      "Идентифицировано или на вериф-ю по инн:  13.65\n",
      "account_flg : 39966\n",
      "address_flg : 0\n",
      "birth_date_flg : 290164\n",
      "birth_place_flg : 0\n",
      "fio_flg : 261646\n",
      "inn_flg : 65258\n",
      "name_org_flg : 311\n",
      "fl_ru_pass_flg : 0\n",
      "fl_forn_pass_flg : 0\n",
      "\n",
      "DB\n",
      "ogrn_flg : 0\n",
      "src_bls_flg : 39966\n",
      "src_egrn_egrul_flg : 278034\n",
      "src_kik_flg : 3370\n",
      "src_residency_flg : 1212\n",
      "ogrn_ip_flg : 39\n",
      "322621\n",
      "\n",
      "КАЧЕСТВО ВСЕЙ ВЫБОРКИ\n",
      "Содержат цифры: 49.4 %\n",
      "Содержат ТОЛЬКО буквы/символы: 7.3 %\n",
      "\n",
      "Содержат ТОЛЬКО цифры: 45.4 %\n",
      "Потенциально качественные 9,10,12: 24.8 %\n",
      "Данные с лишними цифрами >12: 1.6 %\n",
      "Неполные данные : 19.0 %\n",
      "\n",
      "Потенциально качественные загран: 3.1 %\n",
      "Потенциально качественные росс.пасп или ИНН ЮЛ: 1.6 %\n",
      "Потенциально качественные ИНН: 13.7 %\n",
      "Невалидные документы: 6.0 %\n",
      "\n",
      "Зашумленные данные: 4.0 %\n",
      "Потенциально качественные 9,10,12 после преобразований: 1.1 %\n",
      "Данные с лишними цифрами >12 после преобразований: 0.2 %\n",
      "Неполные данные после преобразований : 2.8 %\n",
      "\n",
      "Потенциально качественные загран после преобразований: 0.4 %\n",
      "Потенциально качественные росс.пасп или ИНН ЮЛ после преобразований: 0.1 %\n",
      "Потенциально качественные ИНН после преобразований: 0.4 %\n",
      "Невалидные документы после преобразований: 0.2 %\n",
      "\n",
      "Потенциально качественные ИНН после добавления/удаления цифры: 0.3 %\n",
      "Потенциально качественные ИНН ЮЛ после добавления цифры: 0.1 %\n",
      "Потенциально качественные ИНН после добавления/удаления цифры: 0.3 %\n",
      "\n",
      "КАЧЕСТВЕННЫЕ ДАННЫЕ: 18.4 %\n",
      "НЕКАЧЕСТВЕННЫЕ ДАННЫЕ: 37.1 %\n",
      "КАЧЕСТВЕННЫЕ ДАННЫЕ после преобразований: 1.2 %\n",
      "ДАННЫЕ НЕ ПРЕДОСТАВЛЕНЫ: 43.3 %\n",
      "(65258,)\n",
      "\n",
      "ИДЕНТИФИЦИРОВАНО ИЛИ НА ВЕРИФИКАЦИЮ по ИНН\n",
      "\n",
      "Содержат цифры: 100.0 %\n",
      "Содержат ТОЛЬКО буквы/символы: 0.0 %\n",
      "\n",
      "Содержат ТОЛЬКО цифры: 97.5 %\n",
      "Потенциально качественные 9,10,12: 97.4 %\n",
      "Данные с лишними цифрами >12: 0.0 %\n",
      "Неполные данные : 0.0 %\n",
      "\n",
      "Потенциально качественные загран: 0.0 %\n",
      "Потенциально качественные росс.пасп или ИНН ЮЛ: 0.5 %\n",
      "Потенциально качественные ИНН: 96.9 %\n",
      "Невалидные документы: 0.0 %\n",
      "\n",
      "Зашумленные данные: 2.5 %\n",
      "Потенциально качественные 9,10,12 после преобразований: 2.4 %\n",
      "Данные с лишними цифрами >12 после преобразований: 0.0 %\n",
      "Неполные данные после преобразований : 0.0 %\n",
      "\n",
      "Потенциально качественные загран после преобразований: 0.0 %\n",
      "Потенциально качественные росс.пасп или ИНН ЮЛ после преобразований: 0.0 %\n",
      "Потенциально качественные ИНН после преобразований: 2.4 %\n",
      "Невалидные документы после преобразований: 0.0 %\n",
      "\n",
      "Потенциально качественные ИНН после добавления/удаления цифры: 0.0 %\n",
      "Потенциально качественные ИНН ЮЛ после добавления цифры: 0.0 %\n",
      "Потенциально качественные ИНН после добавления/удаления цифры: 0.0 %\n",
      "\n",
      "КАЧЕСТВЕННЫЕ ДАННЫЕ: 97.4 %\n",
      "НЕКАЧЕСТВЕННЫЕ ДАННЫЕ: 0.1 %\n",
      "КАЧЕСТВЕННЫЕ ДАННЫЕ после преобразований: 2.4 %\n",
      "ДАННЫЕ НЕ ПРЕДОСТАВЛЕНЫ: 0.0 %\n"
     ]
    }
   ],
   "source": [
    "good_qual1, good_qual2, good_after1, good_after2 = quality_vs_ident(data_17)"
   ]
  },
  {
   "cell_type": "code",
   "execution_count": 55,
   "metadata": {},
   "outputs": [
    {
     "name": "stdout",
     "output_type": "stream",
     "text": [
      "(89691, 101)\n",
      "1.0    77742\n",
      "2.0     3356\n",
      "3.0     8593\n",
      "Name: identification_status, dtype: int64\n",
      "Идентифицировано по ИНН, %:  70.9\n",
      "Идентифицировано не по ИНН, %:  18.12\n",
      "На верификацию не по ИНН, %:  1.4\n",
      "Идентифицировано всего, %:  86.68\n",
      "На верификацию всего, %:  3.74\n",
      "Качественные не идентифицированные, % 9.579999999999993\n",
      "Качественные не идентифицированные от общей выборки, % 1.7969111373218216\n"
     ]
    }
   ],
   "source": [
    "# idx = []\n",
    "# for tin in tqdm(list(set(good_qual1 + good_after1))):\n",
    "#     for i in data_17[data_17.identnumber == tin].index:\n",
    "#         idx.append(i)\n",
    "# idst = data_17.iloc[idx]\n",
    "\n",
    "idst = data_17[data_17.identnumber.isin(good_qual1 + good_after1)]\n",
    "print(idst.shape)\n",
    "print(idst.identification_status.value_counts().sort_index())\n",
    "\n",
    "print('Идентифицировано по ИНН, %: ', round(100 * idst[((idst.identification_status == 1) | (idst.identification_status == 2))\\\n",
    "                                                       & (idst.inn_flg == True)].shape[0]/idst.shape[0], 2))\n",
    "\n",
    "# print('На верификацию по ИНН, %: ', round(100 * idst[(idst.identification_status == 2) & \\\n",
    "#                                                        (idst.inn_flg == True)].shape[0]/idst.shape[0], 2))\n",
    "\n",
    "\n",
    "print('Идентифицировано не по ИНН, %: ', round(100 * idst[((idst.identification_status == 1)|(idst.identification_status == 2)) \\\n",
    "                                                          & (idst.inn_flg != True)].shape[0]/idst.shape[0], 2))\n",
    "\n",
    "ide_all = round(100 * idst[(idst.identification_status == 1)].shape[0]/idst.shape[0], 2)\n",
    "verif_all = round(100 * idst[(idst.identification_status == 2)].shape[0]/idst.shape[0], 2)\n",
    "print('Идентифицировано всего, %: ', ide_all)\n",
    "print('На верификацию всего, %: ', verif_all)\n",
    "\n",
    "print('Качественные не идентифицированные, %', 100 - ide_all - verif_all)\n",
    "print('Качественные не идентифицированные от общей выборки, %', (100 - ide_all - verif_all)*idst.shape[0]/data_17.shape[0])"
   ]
  },
  {
   "cell_type": "code",
   "execution_count": 56,
   "metadata": {
    "scrolled": false
   },
   "outputs": [
    {
     "name": "stdout",
     "output_type": "stream",
     "text": [
      "1.0    289587\n",
      "3.0    262385\n",
      "2.0     42863\n",
      "Name: identification_status, dtype: int64\n",
      "Идентифицировано:  48.68\n",
      "На верификацию:  7.21\n",
      "Идент + вериф:  55.89\n",
      "\n",
      "Идентифицировано или на вериф-ю по инн:  20.17\n",
      "account_flg : 42399\n",
      "address_flg : 0\n",
      "birth_date_flg : 295891\n",
      "birth_place_flg : 0\n",
      "fio_flg : 287073\n",
      "inn_flg : 119965\n",
      "name_org_flg : 563\n",
      "fl_ru_pass_flg : 0\n",
      "fl_forn_pass_flg : 0\n",
      "\n",
      "DB\n",
      "ogrn_flg : 0\n",
      "src_bls_flg : 42399\n",
      "src_egrn_egrul_flg : 321962\n",
      "src_kik_flg : 9448\n",
      "src_residency_flg : 2572\n",
      "ogrn_ip_flg : 69\n",
      "376450\n",
      "\n",
      "КАЧЕСТВО ВСЕЙ ВЫБОРКИ\n",
      "Содержат цифры: 37.9 %\n",
      "Содержат ТОЛЬКО буквы/символы: 7.6 %\n",
      "\n",
      "Содержат ТОЛЬКО цифры: 32.7 %\n",
      "Потенциально качественные 9,10,12: 28.5 %\n",
      "Данные с лишними цифрами >12: 0.8 %\n",
      "Неполные данные : 3.3 %\n",
      "\n",
      "Потенциально качественные загран: 1.2 %\n",
      "Потенциально качественные росс.пасп или ИНН ЮЛ: 1.1 %\n",
      "Потенциально качественные ИНН: 20.1 %\n",
      "Невалидные документы: 5.9 %\n",
      "\n",
      "Зашумленные данные: 5.3 %\n",
      "Потенциально качественные 9,10,12 после преобразований: 1.0 %\n",
      "Данные с лишними цифрами >12 после преобразований: 0.2 %\n",
      "Неполные данные после преобразований : 4.1 %\n",
      "\n",
      "Потенциально качественные загран после преобразований: 0.1 %\n",
      "Потенциально качественные росс.пасп или ИНН ЮЛ после преобразований: 0.1 %\n",
      "Потенциально качественные ИНН после преобразований: 0.5 %\n",
      "Невалидные документы после преобразований: 0.2 %\n",
      "\n",
      "Потенциально качественные ИНН после добавления/удаления цифры: 0.3 %\n",
      "Потенциально качественные ИНН ЮЛ после добавления цифры: 0.0 %\n",
      "Потенциально качественные ИНН после добавления/удаления цифры: 0.3 %\n",
      "\n",
      "КАЧЕСТВЕННЫЕ ДАННЫЕ: 22.3 %\n",
      "НЕКАЧЕСТВЕННЫЕ ДАННЫЕ: 22.2 %\n",
      "КАЧЕСТВЕННЫЕ ДАННЫЕ после преобразований: 1.1 %\n",
      "ДАННЫЕ НЕ ПРЕДОСТАВЛЕНЫ: 54.5 %\n",
      "(119965,)\n",
      "\n",
      "ИДЕНТИФИЦИРОВАНО ИЛИ НА ВЕРИФИКАЦИЮ по ИНН\n",
      "\n",
      "Содержат цифры: 99.8 %\n",
      "Содержат ТОЛЬКО буквы/символы: 0.2 %\n",
      "\n",
      "Содержат ТОЛЬКО цифры: 97.6 %\n",
      "Потенциально качественные 9,10,12: 97.6 %\n",
      "Данные с лишними цифрами >12: 0.0 %\n",
      "Неполные данные : 0.0 %\n",
      "\n",
      "Потенциально качественные загран: 0.0 %\n",
      "Потенциально качественные росс.пасп или ИНН ЮЛ: 0.4 %\n",
      "Потенциально качественные ИНН: 97.1 %\n",
      "Невалидные документы: 0.0 %\n",
      "\n",
      "Зашумленные данные: 2.2 %\n",
      "Потенциально качественные 9,10,12 после преобразований: 2.1 %\n",
      "Данные с лишними цифрами >12 после преобразований: 0.1 %\n",
      "Неполные данные после преобразований : 0.0 %\n",
      "\n",
      "Потенциально качественные загран после преобразований: 0.0 %\n",
      "Потенциально качественные росс.пасп или ИНН ЮЛ после преобразований: 0.1 %\n",
      "Потенциально качественные ИНН после преобразований: 2.0 %\n",
      "Невалидные документы после преобразований: 0.0 %\n",
      "\n",
      "Потенциально качественные ИНН после добавления/удаления цифры: 0.0 %\n",
      "Потенциально качественные ИНН ЮЛ после добавления цифры: 0.0 %\n",
      "Потенциально качественные ИНН после добавления/удаления цифры: 0.0 %\n",
      "\n",
      "КАЧЕСТВЕННЫЕ ДАННЫЕ: 97.5 %\n",
      "НЕКАЧЕСТВЕННЫЕ ДАННЫЕ: 0.3 %\n",
      "КАЧЕСТВЕННЫЕ ДАННЫЕ после преобразований: 2.1 %\n",
      "ДАННЫЕ НЕ ПРЕДОСТАВЛЕНЫ: 0.0 %\n"
     ]
    }
   ],
   "source": [
    "good_qual1, good_qual2, good_after1, good_after2 = quality_vs_ident(data_18)"
   ]
  },
  {
   "cell_type": "code",
   "execution_count": 57,
   "metadata": {},
   "outputs": [
    {
     "name": "stdout",
     "output_type": "stream",
     "text": [
      "(134765, 101)\n",
      "1.0    89921\n",
      "2.0    38027\n",
      "3.0     6817\n",
      "Name: identification_status, dtype: int64\n",
      "Идентифицировано по ИНН, %:  86.85\n",
      "Идентифицировано не по ИНН, %:  8.09\n",
      "Идентифицировано всего, %:  66.72\n",
      "На верификацию всего, %:  28.22\n",
      "Качественные не идентифицированные, % 5.060000000000002\n",
      "Качественные не идентифицированные от общей выборки, % 1.1463847178045719\n"
     ]
    }
   ],
   "source": [
    "idst = data_18[data_18.identnumber.isin(good_qual1 + good_after1)]\n",
    "print(idst.shape)\n",
    "print(idst.identification_status.value_counts().sort_index())\n",
    "\n",
    "print('Идентифицировано по ИНН, %: ', round(100 * idst[((idst.identification_status == 1) | (idst.identification_status == 2))\\\n",
    "                                                       & (idst.inn_flg == True)].shape[0]/idst.shape[0], 2))\n",
    "\n",
    "\n",
    "print('Идентифицировано не по ИНН, %: ', round(100 * idst[((idst.identification_status == 1)|(idst.identification_status == 2)) \\\n",
    "                                                          & (idst.inn_flg != True)].shape[0]/idst.shape[0], 2))\n",
    "\n",
    "ide_all = round(100 * idst[(idst.identification_status == 1)].shape[0]/idst.shape[0], 2)\n",
    "verif_all = round(100 * idst[(idst.identification_status == 2)].shape[0]/idst.shape[0], 2)\n",
    "print('Идентифицировано всего, %: ', ide_all)\n",
    "print('На верификацию всего, %: ', verif_all)\n",
    "\n",
    "print('Качественные не идентифицированные, %', 100 - ide_all - verif_all)\n",
    "print('Качественные не идентифицированные от общей выборки, %', (100 - ide_all - verif_all)*idst.shape[0]/data_18.shape[0])"
   ]
  },
  {
   "cell_type": "code",
   "execution_count": 59,
   "metadata": {},
   "outputs": [
    {
     "data": {
      "text/plain": [
       "0.54"
      ]
     },
     "execution_count": 59,
     "metadata": {},
     "output_type": "execute_result"
    }
   ],
   "source": [
    "(0.23+0.85)/2"
   ]
  },
  {
   "cell_type": "code",
   "execution_count": null,
   "metadata": {},
   "outputs": [],
   "source": [
    "data_17.fio_flg.iloc[idx].value_counts()"
   ]
  },
  {
   "cell_type": "code",
   "execution_count": null,
   "metadata": {},
   "outputs": [],
   "source": [
    "data_17.birth_date_flg.iloc[idx].value_counts()"
   ]
  },
  {
   "cell_type": "code",
   "execution_count": null,
   "metadata": {},
   "outputs": [],
   "source": [
    "data_17.inn_flg.value_counts()"
   ]
  },
  {
   "cell_type": "code",
   "execution_count": null,
   "metadata": {},
   "outputs": [],
   "source": [
    "data_17.inn_flg.isnull().sum()"
   ]
  },
  {
   "cell_type": "markdown",
   "metadata": {},
   "source": [
    "## Критерии качества\n",
    "\n",
    "**TIN**  \n",
    "\n",
    "1. **Содержат ТОЛЬКО буквы/символы или пусто** - те строки, в которых тин вообще ни в каком виде не указан или тины, не содержащие цифры (н-р, AAAAAAAAA, noTINavailable)\n",
    "2. **неполные данные** - тины, содержащие мало цифр для идентификации (надо решить, например, 4 цифры мы можем использовать для идентификации как серию? или начать с 6 - номер паспорта либо 7 - номер заграна)\n",
    "3. **данные с дополнительными цифрами** - лишние цифры в номере документа, представляющие собой шум (00 в начале) либо склееные 2 типа документа\n",
    "4. **зашумленные данные** - вперемежку с буквами, словами, знаками и т.д\n",
    "5. **скрываемые данные** - 1 в верхнем регистре вместо обычной единицы, D вместо 0, B вместо 8\n",
    "6. **невалидные документы** - номера, не проходящие проверку ни на один документ\n",
    "7. **данные, в которые необходимо добавить/удалить 1 цифру** (часто 0)\n",
    "\n",
    "\n",
    "\n",
    "\n",
    "## Вероятность идентификации:\n",
    "min - % тинов, которые указаны в правильном цифровом формате, количество символов соответствует количеству символов в российских документах\n",
    "\n",
    "max - % тинов, которые можно привести к правильному формату путем многочисленных преобразований  "
   ]
  }
 ],
 "metadata": {
  "kernelspec": {
   "display_name": "Python 3",
   "language": "python",
   "name": "python3"
  },
  "language_info": {
   "codemirror_mode": {
    "name": "ipython",
    "version": 3
   },
   "file_extension": ".py",
   "mimetype": "text/x-python",
   "name": "python",
   "nbconvert_exporter": "python",
   "pygments_lexer": "ipython3",
   "version": "3.7.8"
  },
  "varInspector": {
   "cols": {
    "lenName": 16,
    "lenType": 16,
    "lenVar": 40
   },
   "kernels_config": {
    "python": {
     "delete_cmd_postfix": "",
     "delete_cmd_prefix": "del ",
     "library": "var_list.py",
     "varRefreshCmd": "print(var_dic_list())"
    },
    "r": {
     "delete_cmd_postfix": ") ",
     "delete_cmd_prefix": "rm(",
     "library": "var_list.r",
     "varRefreshCmd": "cat(var_dic_list()) "
    }
   },
   "types_to_exclude": [
    "module",
    "function",
    "builtin_function_or_method",
    "instance",
    "_Feature"
   ],
   "window_display": false
  }
 },
 "nbformat": 4,
 "nbformat_minor": 4
}
