{
 "cells": [
  {
   "cell_type": "code",
   "execution_count": 1,
   "metadata": {},
   "outputs": [
    {
     "name": "stderr",
     "output_type": "stream",
     "text": [
      "/home/jane/3005/lib/python3.7/site-packages/statsmodels/tools/_testing.py:19: FutureWarning: pandas.util.testing is deprecated. Use the functions in the public API at pandas.testing instead.\n",
      "  import pandas.util.testing as tm\n"
     ]
    }
   ],
   "source": [
    "import pandas as pd\n",
    "pd.set_option('display.max_rows', 300)\n",
    "pd.set_option(\"display.max_columns\", 60)\n",
    "import time\n",
    "import re\n",
    "import matplotlib.pyplot as plt\n",
    "import seaborn as sns\n",
    "sns.set(style='darkgrid', font_scale=1.5)\n",
    "import numpy as np\n",
    "%matplotlib inline\n",
    "\n",
    "\n",
    "SOURCE_FOLDER = 'Source_data/'"
   ]
  },
  {
   "cell_type": "markdown",
   "metadata": {},
   "source": [
    "## Выборка \n",
    "\n",
    "create table dl_tmp.dt_tins_2020_05_20 as  \n",
    "select   \n",
    "ident_source.identnumber  \n",
    ", a.tcountry as transmitting_country  \n",
    ", a.reportperiod as reporting_period  \n",
    ", a.rcountry as rcountry  \n",
    ", d.docrefid as docrefid  \n",
    ", d.cordocrefid as cordocrefid   \n",
    "from dl_tmp.dt_t_identification_registry_viosvo_fs_fl_ident_stg_ident_source ident_source  \n",
    "join  dl_tmp.il_actual_t_identification_registry_viosvo_fs_accountreport d  \n",
    "on d.id_fs_fl = ident_source.id_fs_fl  \n",
    "join dl_tmp.il_actual_t_identification_registry_viosvo_fs_document b  \n",
    "on b.id = d.id_fs_document  \n",
    "join dl_tmp.il_actual_t_identification_registry_viosvo_fs_journalin a  \n",
    "on a.id = b.id_fs_journalin  \n",
    "where  \n",
    "a.typeinfid is not null  \n",
    "and d.doctypeind in ('OECD1','OECD2','OECD3') \n",
    "and a.id in (select f.id_fs_journalin  \n",
    "  \tfrom dl_raw.viosvo_fs_status f  \n",
    "  \twhere f.probr = '01');  \n",
    "\n",
    "  \n",
    "select * from dl_tmp.dt_tins_2020_05_20;    "
   ]
  },
  {
   "cell_type": "code",
   "execution_count": 2,
   "metadata": {},
   "outputs": [
    {
     "name": "stdout",
     "output_type": "stream",
     "text": [
      "CPU times: user 3.26 s, sys: 277 ms, total: 3.54 s\n",
      "Wall time: 3.54 s\n"
     ]
    }
   ],
   "source": [
    "%%time\n",
    "data_raw = pd.read_csv(SOURCE_FOLDER + 'identnumber_simplified.csv', delimiter = ';', encoding=\"ISO-8859-1\")\n",
    "# Save data to .feather format for fast loading\n",
    "# data_raw.to_feather(SOURCE_FOLDER + 'identnumber.feather')"
   ]
  },
  {
   "cell_type": "code",
   "execution_count": 3,
   "metadata": {},
   "outputs": [],
   "source": [
    "# %%time\n",
    "# data_raw = pd.read_feather(SOURCE_FOLDER + 'identnumber.feather')"
   ]
  },
  {
   "cell_type": "code",
   "execution_count": 4,
   "metadata": {},
   "outputs": [
    {
     "data": {
      "text/plain": [
       "(3303336, 6)"
      ]
     },
     "execution_count": 4,
     "metadata": {},
     "output_type": "execute_result"
    }
   ],
   "source": [
    "data_raw.shape"
   ]
  },
  {
   "cell_type": "markdown",
   "metadata": {},
   "source": [
    "Всего в выборке 3 303 336 строк"
   ]
  },
  {
   "cell_type": "code",
   "execution_count": 5,
   "metadata": {},
   "outputs": [
    {
     "data": {
      "text/plain": [
       "Index(['identnumber', 'transmitting_country', 'reporting_period', 'rcountry',\n",
       "       'docrefid', 'cordocrefid'],\n",
       "      dtype='object')"
      ]
     },
     "execution_count": 5,
     "metadata": {},
     "output_type": "execute_result"
    }
   ],
   "source": [
    "data_raw.columns"
   ]
  },
  {
   "cell_type": "code",
   "execution_count": 6,
   "metadata": {},
   "outputs": [
    {
     "data": {
      "text/html": [
       "<div>\n",
       "<style scoped>\n",
       "    .dataframe tbody tr th:only-of-type {\n",
       "        vertical-align: middle;\n",
       "    }\n",
       "\n",
       "    .dataframe tbody tr th {\n",
       "        vertical-align: top;\n",
       "    }\n",
       "\n",
       "    .dataframe thead th {\n",
       "        text-align: right;\n",
       "    }\n",
       "</style>\n",
       "<table border=\"1\" class=\"dataframe\">\n",
       "  <thead>\n",
       "    <tr style=\"text-align: right;\">\n",
       "      <th></th>\n",
       "      <th>identnumber</th>\n",
       "      <th>transmitting_country</th>\n",
       "      <th>reporting_period</th>\n",
       "      <th>rcountry</th>\n",
       "      <th>docrefid</th>\n",
       "      <th>cordocrefid</th>\n",
       "    </tr>\n",
       "  </thead>\n",
       "  <tbody>\n",
       "    <tr>\n",
       "      <th>0</th>\n",
       "      <td>700646031</td>\n",
       "      <td>RU</td>\n",
       "      <td>2017-12-31</td>\n",
       "      <td>RU</td>\n",
       "      <td>RU2017-7704113772-BB86A4F7-9C9D-E641-9201-B0FF...</td>\n",
       "      <td>NaN</td>\n",
       "    </tr>\n",
       "    <tr>\n",
       "      <th>1</th>\n",
       "      <td>57310864903</td>\n",
       "      <td>RU</td>\n",
       "      <td>2017-12-31</td>\n",
       "      <td>RU</td>\n",
       "      <td>RU2017-7414006722-BBA8F581-0FBC-694F-BA94-1384...</td>\n",
       "      <td>NaN</td>\n",
       "    </tr>\n",
       "    <tr>\n",
       "      <th>2</th>\n",
       "      <td>784-1950-6908293-1</td>\n",
       "      <td>RU</td>\n",
       "      <td>2017-12-31</td>\n",
       "      <td>RU</td>\n",
       "      <td>RU2017-7744000912-9795EFEF-453C-E148-B168-6CF3...</td>\n",
       "      <td>NaN</td>\n",
       "    </tr>\n",
       "    <tr>\n",
       "      <th>3</th>\n",
       "      <td>784-1950-6908293-1</td>\n",
       "      <td>RU</td>\n",
       "      <td>2017-12-31</td>\n",
       "      <td>RU</td>\n",
       "      <td>RU2017-7744000912-B6D0378E-B1BA-7349-A3CA-5D9C...</td>\n",
       "      <td>NaN</td>\n",
       "    </tr>\n",
       "    <tr>\n",
       "      <th>4</th>\n",
       "      <td>784-1950-6908293-1</td>\n",
       "      <td>RU</td>\n",
       "      <td>2017-12-31</td>\n",
       "      <td>RU</td>\n",
       "      <td>RU2017-7744000912-06CB3AA4-2A34-994B-B716-9094...</td>\n",
       "      <td>NaN</td>\n",
       "    </tr>\n",
       "  </tbody>\n",
       "</table>\n",
       "</div>"
      ],
      "text/plain": [
       "          identnumber transmitting_country reporting_period rcountry  \\\n",
       "0           700646031                   RU       2017-12-31       RU   \n",
       "1         57310864903                   RU       2017-12-31       RU   \n",
       "2  784-1950-6908293-1                   RU       2017-12-31       RU   \n",
       "3  784-1950-6908293-1                   RU       2017-12-31       RU   \n",
       "4  784-1950-6908293-1                   RU       2017-12-31       RU   \n",
       "\n",
       "                                            docrefid cordocrefid  \n",
       "0  RU2017-7704113772-BB86A4F7-9C9D-E641-9201-B0FF...         NaN  \n",
       "1  RU2017-7414006722-BBA8F581-0FBC-694F-BA94-1384...         NaN  \n",
       "2  RU2017-7744000912-9795EFEF-453C-E148-B168-6CF3...         NaN  \n",
       "3  RU2017-7744000912-B6D0378E-B1BA-7349-A3CA-5D9C...         NaN  \n",
       "4  RU2017-7744000912-06CB3AA4-2A34-994B-B716-9094...         NaN  "
      ]
     },
     "execution_count": 6,
     "metadata": {},
     "output_type": "execute_result"
    }
   ],
   "source": [
    "data_raw.head()"
   ]
  },
  {
   "cell_type": "code",
   "execution_count": 7,
   "metadata": {},
   "outputs": [
    {
     "data": {
      "text/plain": [
       "XX                 2332050\n",
       "0                    87556\n",
       "AAAAAAAAA            51789\n",
       "000000000            41865\n",
       "noTINavailable       27594\n",
       "0000                 21264\n",
       "999999999             9659\n",
       "999999999999999       8110\n",
       "NOTIN                 2981\n",
       "1                     2969\n",
       "Name: identnumber, dtype: int64"
      ]
     },
     "execution_count": 7,
     "metadata": {},
     "output_type": "execute_result"
    }
   ],
   "source": [
    "data_raw.identnumber.value_counts().head(10)"
   ]
  },
  {
   "cell_type": "code",
   "execution_count": 8,
   "metadata": {
    "scrolled": true
   },
   "outputs": [
    {
     "data": {
      "text/plain": [
       "RU    3303236\n",
       "Name: rcountry, dtype: int64"
      ]
     },
     "execution_count": 8,
     "metadata": {},
     "output_type": "execute_result"
    }
   ],
   "source": [
    "# rcountry - Страна получатель \n",
    "data_raw.rcountry.value_counts()"
   ]
  },
  {
   "cell_type": "markdown",
   "metadata": {},
   "source": [
    "100 строк пусто"
   ]
  },
  {
   "cell_type": "code",
   "execution_count": 9,
   "metadata": {
    "scrolled": true
   },
   "outputs": [
    {
     "data": {
      "text/plain": [
       "RU    2570738\n",
       "CY     193517\n",
       "FI      70539\n",
       "BG      66837\n",
       "CZ      51474\n",
       "Name: transmitting_country, dtype: int64"
      ]
     },
     "execution_count": 9,
     "metadata": {},
     "output_type": "execute_result"
    }
   ],
   "source": [
    "# fin_country - Наименование страны финансовой организации\n",
    "# transmitting_country - Код государства, отправившего сведения об идентифицируемом лице\n",
    "data_raw.transmitting_country.value_counts().head()"
   ]
  },
  {
   "cell_type": "code",
   "execution_count": 10,
   "metadata": {},
   "outputs": [
    {
     "data": {
      "text/plain": [
       "(732598, 6)"
      ]
     },
     "execution_count": 10,
     "metadata": {},
     "output_type": "execute_result"
    }
   ],
   "source": [
    "data_tin_rus = data_raw[(data_raw['transmitting_country'] != 'RU')] \n",
    "data_tin_rus.shape"
   ]
  },
  {
   "cell_type": "code",
   "execution_count": 11,
   "metadata": {},
   "outputs": [],
   "source": [
    "data_tin_rus.reset_index(drop = True, inplace = True)"
   ]
  },
  {
   "cell_type": "code",
   "execution_count": 12,
   "metadata": {},
   "outputs": [
    {
     "name": "stdout",
     "output_type": "stream",
     "text": [
      "Number of cordocrefid:  13079\n"
     ]
    }
   ],
   "source": [
    "cordocrefid = data_tin_rus.cordocrefid[data_tin_rus['cordocrefid'].str.contains('.', case = False, \n",
    "                                                                                    regex=True, na=False)]\n",
    "print('Number of cordocrefid: ', cordocrefid.shape[0])\n",
    "\n",
    "def filter_actual_docrefid(docref):\n",
    "\n",
    "    if docref in cordocrefid.values:\n",
    "        return False\n",
    "    else:\n",
    "        return True"
   ]
  },
  {
   "cell_type": "code",
   "execution_count": 13,
   "metadata": {},
   "outputs": [
    {
     "name": "stdout",
     "output_type": "stream",
     "text": [
      "CPU times: user 2min 22s, sys: 679 ms, total: 2min 22s\n",
      "Wall time: 2min 21s\n"
     ]
    },
    {
     "data": {
      "text/plain": [
       "True     719524\n",
       "False     13074\n",
       "Name: docrefid, dtype: int64"
      ]
     },
     "execution_count": 13,
     "metadata": {},
     "output_type": "execute_result"
    }
   ],
   "source": [
    "%%time\n",
    "mask_docrefid = data_tin_rus['docrefid'].map(filter_actual_docrefid)\n",
    "mask_docrefid.value_counts()"
   ]
  },
  {
   "cell_type": "code",
   "execution_count": 14,
   "metadata": {},
   "outputs": [
    {
     "data": {
      "text/plain": [
       "(719524, 6)"
      ]
     },
     "execution_count": 14,
     "metadata": {},
     "output_type": "execute_result"
    }
   ],
   "source": [
    "data_actual = data_tin_rus[mask_docrefid]\n",
    "data_actual.shape"
   ]
  },
  {
   "cell_type": "code",
   "execution_count": 15,
   "metadata": {},
   "outputs": [
    {
     "name": "stderr",
     "output_type": "stream",
     "text": [
      "/home/jane/3005/lib/python3.7/site-packages/ipykernel_launcher.py:1: SettingWithCopyWarning: \n",
      "A value is trying to be set on a copy of a slice from a DataFrame.\n",
      "Try using .loc[row_indexer,col_indexer] = value instead\n",
      "\n",
      "See the caveats in the documentation: https://pandas.pydata.org/pandas-docs/stable/user_guide/indexing.html#returning-a-view-versus-a-copy\n",
      "  \"\"\"Entry point for launching an IPython kernel.\n",
      "/home/jane/3005/lib/python3.7/site-packages/ipykernel_launcher.py:2: SettingWithCopyWarning: \n",
      "A value is trying to be set on a copy of a slice from a DataFrame.\n",
      "Try using .loc[row_indexer,col_indexer] = value instead\n",
      "\n",
      "See the caveats in the documentation: https://pandas.pydata.org/pandas-docs/stable/user_guide/indexing.html#returning-a-view-versus-a-copy\n",
      "  \n"
     ]
    }
   ],
   "source": [
    "data_actual['reporting_period'] = data_actual['reporting_period'].astype('str')\n",
    "data_actual['reporting_year'] = data_actual.reporting_period.apply(lambda x: x[:4])"
   ]
  },
  {
   "cell_type": "code",
   "execution_count": 16,
   "metadata": {},
   "outputs": [
    {
     "data": {
      "text/plain": [
       "2018    362313\n",
       "2017    341603\n",
       "2019      8798\n",
       "2016      6710\n",
       "nan        100\n",
       "Name: reporting_year, dtype: int64"
      ]
     },
     "execution_count": 16,
     "metadata": {},
     "output_type": "execute_result"
    }
   ],
   "source": [
    "data_actual['reporting_year'].value_counts()"
   ]
  },
  {
   "cell_type": "code",
   "execution_count": 17,
   "metadata": {},
   "outputs": [
    {
     "data": {
      "text/plain": [
       "(362313, 7)"
      ]
     },
     "execution_count": 17,
     "metadata": {},
     "output_type": "execute_result"
    }
   ],
   "source": [
    "data = data_actual[data_actual['reporting_year'] == '2018']\n",
    "data.reset_index(drop = True, inplace = True)\n",
    "data.shape"
   ]
  },
  {
   "cell_type": "code",
   "execution_count": 18,
   "metadata": {},
   "outputs": [
    {
     "data": {
      "text/plain": [
       "AAAAAAAAA        37493\n",
       "000000000        27599\n",
       "0000              7152\n",
       "0                 4163\n",
       "1                 2687\n",
       "NOTIN             2531\n",
       "X                 1650\n",
       "-1                1405\n",
       "00000             1181\n",
       "000000             826\n",
       "770472522269       504\n",
       "AAAAA              477\n",
       "UNKNOWN            453\n",
       "XX                 417\n",
       "XXXXXXXXX          401\n",
       "0000000000         323\n",
       "AAAAAAAAAA         312\n",
       "999                254\n",
       "na                 248\n",
       ".                  230\n",
       "TINNOTAVBL         184\n",
       "NOT AVAILABLE      173\n",
       "xxxxxxxx           139\n",
       "000-00-0000        130\n",
       "XXXXXX             126\n",
       "Name: identnumber, dtype: int64"
      ]
     },
     "execution_count": 18,
     "metadata": {},
     "output_type": "execute_result"
    }
   ],
   "source": [
    "data.identnumber.value_counts().head(25)"
   ]
  },
  {
   "cell_type": "code",
   "execution_count": 19,
   "metadata": {},
   "outputs": [
    {
     "data": {
      "text/plain": [
       "25.061755995506648"
      ]
     },
     "execution_count": 19,
     "metadata": {},
     "output_type": "execute_result"
    }
   ],
   "source": [
    "data.identnumber.value_counts().head(23).sum()*100/data.identnumber.shape[0]"
   ]
  },
  {
   "cell_type": "markdown",
   "metadata": {},
   "source": [
    "Как минимум около 45 % всей выборки представляют собой не идентификационные номера"
   ]
  },
  {
   "cell_type": "markdown",
   "metadata": {},
   "source": [
    "## Критерии качества\n",
    "\n",
    "**TIN**  \n",
    "1. **пропущенные значения** - те строки, в которых тин вообще ни в каком виде не указан\n",
    "2. **нерелевантные данные** - тины, не содержащие цифры либо не похожие на номер (н-р, AAAAAAAAA, noTINavailable, 99999999999, 1, -1)\n",
    "3. **неполные данные** - тины, содержащие мало цифр для идентификации (надо решить, например, 4 цифры мы можем использовать для идентификации как серию? или начать с 6 - номер паспорта либо 7 - номер заграна)\n",
    "4. **данные с дополнительными цифрами** - лишние цифры в номере документа, представляющие собой шум (00 в начале) либо склееные 2 типа документа\n",
    "5. **зашумленные данные** - вперемежку с буквами, словами, знаками и т.д\n",
    "6. **скрываемые данные** - 1 в верхнем регистре вместо обычной единицы, D вместо 0, B вместо 8\n",
    "\n",
    "\n",
    "\n",
    "\n",
    "## Вероятность идентификации:\n",
    "min - % тинов, которые указаны в правильном цифровом формате, количество символов соответствует количеству символов в российских документах\n",
    "\n",
    "max - % тинов, которые можно привести к правильному формату путем многочисленных преобразований  "
   ]
  },
  {
   "cell_type": "code",
   "execution_count": 20,
   "metadata": {},
   "outputs": [
    {
     "data": {
      "text/plain": [
       "True     313037\n",
       "False     49276\n",
       "Name: identnumber, dtype: int64"
      ]
     },
     "execution_count": 20,
     "metadata": {},
     "output_type": "execute_result"
    }
   ],
   "source": [
    "mask_digit = data.identnumber.str.contains('\\d', regex=True, na=False)\n",
    "mask_digit.value_counts()"
   ]
  },
  {
   "cell_type": "code",
   "execution_count": 21,
   "metadata": {},
   "outputs": [
    {
     "data": {
      "text/plain": [
       "0         540542373805\n",
       "1         540608438220\n",
       "2         772810417128\n",
       "3         301511947592\n",
       "4         590416261878\n",
       "              ...     \n",
       "362308        19850421\n",
       "362309        19870706\n",
       "362310    250306262459\n",
       "362311        5,03E+11\n",
       "362312    501105888334\n",
       "Name: identnumber, Length: 313037, dtype: object"
      ]
     },
     "execution_count": 21,
     "metadata": {},
     "output_type": "execute_result"
    }
   ],
   "source": [
    "tins_only_with_digits = data.identnumber.loc[mask_digit]\n",
    "tins_only_with_digits"
   ]
  },
  {
   "cell_type": "code",
   "execution_count": 22,
   "metadata": {},
   "outputs": [
    {
     "name": "stdout",
     "output_type": "stream",
     "text": [
      "Содержат цифры: 86 %\n"
     ]
    }
   ],
   "source": [
    "twd = tins_only_with_digits.shape[0]/data.shape[0]\n",
    "print('Содержат цифры: {} %'.format(round(twd*100)))"
   ]
  },
  {
   "cell_type": "code",
   "execution_count": 23,
   "metadata": {},
   "outputs": [],
   "source": [
    "# data.tin = data.tin.fillna('')"
   ]
  },
  {
   "cell_type": "code",
   "execution_count": 24,
   "metadata": {},
   "outputs": [],
   "source": [
    "mask_only_digits=tins_only_with_digits.apply(lambda x: bool(re.match('^[0-9]+$', x)))\n",
    "tins_only_digits = tins_only_with_digits[mask_only_digits]"
   ]
  },
  {
   "cell_type": "code",
   "execution_count": 25,
   "metadata": {},
   "outputs": [
    {
     "data": {
      "text/plain": [
       "0         540542373805\n",
       "1         540608438220\n",
       "2         772810417128\n",
       "3         301511947592\n",
       "4         590416261878\n",
       "              ...     \n",
       "362307        19880813\n",
       "362308        19850421\n",
       "362309        19870706\n",
       "362310    250306262459\n",
       "362312    501105888334\n",
       "Name: identnumber, Length: 253675, dtype: object"
      ]
     },
     "execution_count": 25,
     "metadata": {},
     "output_type": "execute_result"
    }
   ],
   "source": [
    "tins_only_digits"
   ]
  },
  {
   "cell_type": "code",
   "execution_count": 26,
   "metadata": {},
   "outputs": [
    {
     "data": {
      "text/plain": [
       "15         ITN7704746951\n",
       "31            INN 504500\n",
       "176           10.07.1972\n",
       "177           19.02.1960\n",
       "178           23.09.1983\n",
       "               ...      \n",
       "362173        75339*2624\n",
       "362302     RIIG590329U76\n",
       "362303    1234 100001 02\n",
       "362305        KOAN910612\n",
       "362311          5,03E+11\n",
       "Name: identnumber, Length: 59362, dtype: object"
      ]
     },
     "execution_count": 26,
     "metadata": {},
     "output_type": "execute_result"
    }
   ],
   "source": [
    "mask_with_letters = np.invert(tins_only_with_digits.index.isin(tins_only_digits.index))\n",
    "tins_letter_digit = tins_only_with_digits.loc[mask_with_letters]\n",
    "tins_letter_digit"
   ]
  },
  {
   "cell_type": "code",
   "execution_count": 27,
   "metadata": {},
   "outputs": [
    {
     "name": "stdout",
     "output_type": "stream",
     "text": [
      "Содержат только цифры: 70 %\n",
      "Содержат цифры/буквы/символы: 16 %\n"
     ]
    }
   ],
   "source": [
    "tod = tins_only_digits.shape[0]/data.shape[0]\n",
    "tld = tins_letter_digit.shape[0]/data.shape[0]\n",
    "print('Содержат только цифры: {} %'.format(round(tod*100)))\n",
    "print('Содержат цифры/буквы/символы: {} %'.format(round(tld*100)))"
   ]
  },
  {
   "cell_type": "markdown",
   "metadata": {},
   "source": [
    "Из тех, что содержат буквы и цифры 258 741 (86%) содержат только цифры и 41 683 (14%) цифры и буквы,а от общей выборки 76 и 12 % соответственно"
   ]
  },
  {
   "cell_type": "code",
   "execution_count": 28,
   "metadata": {},
   "outputs": [
    {
     "data": {
      "image/png": "[encoded data removed]",
      "text/plain": [
       "<Figure size 432x288 with 1 Axes>"
      ]
     },
     "metadata": {
      "needs_background": "light"
     },
     "output_type": "display_data"
    }
   ],
   "source": [
    "sns.barplot(['C цифрами', 'Только цифры', 'Цифры/буквы'],[twd, tod, tld]);"
   ]
  },
  {
   "cell_type": "markdown",
   "metadata": {},
   "source": [
    "## Анализ TIN, состоящих только из цифр"
   ]
  },
  {
   "cell_type": "code",
   "execution_count": 29,
   "metadata": {},
   "outputs": [
    {
     "data": {
      "text/plain": [
       "000000000          27599\n",
       "0000                7152\n",
       "0                   4163\n",
       "1                   2687\n",
       "00000               1181\n",
       "000000               826\n",
       "770472522269         504\n",
       "0000000000           323\n",
       "999                  254\n",
       "7707083893           120\n",
       "773310743213         118\n",
       "000000000000000      101\n",
       "773398108093          97\n",
       "781411168717          91\n",
       "771511932496          84\n",
       "199408040393          80\n",
       "770975045679          71\n",
       "99                    70\n",
       "771200536436          70\n",
       "781100278080          65\n",
       "Name: identnumber, dtype: int64"
      ]
     },
     "execution_count": 29,
     "metadata": {},
     "output_type": "execute_result"
    }
   ],
   "source": [
    "tins_only_digits.value_counts().head(20)"
   ]
  },
  {
   "cell_type": "code",
   "execution_count": 30,
   "metadata": {},
   "outputs": [
    {
     "data": {
      "text/plain": [
       "12    167911\n",
       "9      37333\n",
       "10     13736\n",
       "11     10349\n",
       "4       7249\n",
       "1       6861\n",
       "8       3891\n",
       "5       1654\n",
       "13      1349\n",
       "6       1274\n",
       "7        879\n",
       "3        390\n",
       "15       303\n",
       "2        135\n",
       "16       120\n",
       "14       112\n",
       "18        44\n",
       "23        26\n",
       "20        19\n",
       "19        16\n",
       "17        12\n",
       "32        10\n",
       "24         1\n",
       "21         1\n",
       "Name: identnumber, dtype: int64"
      ]
     },
     "execution_count": 30,
     "metadata": {},
     "output_type": "execute_result"
    }
   ],
   "source": [
    "tins_only_digits.map(len).value_counts()"
   ]
  },
  {
   "cell_type": "markdown",
   "metadata": {},
   "source": [
    "Слева количество цифр в TIN, справа частота TIN с таким количеством цифр. "
   ]
  },
  {
   "cell_type": "code",
   "execution_count": 31,
   "metadata": {},
   "outputs": [],
   "source": [
    "# tins_only_digits.map(len).value_counts().head(4).sum()*100/tins_only_digits.shape[0]"
   ]
  },
  {
   "cell_type": "code",
   "execution_count": 32,
   "metadata": {},
   "outputs": [
    {
     "name": "stdout",
     "output_type": "stream",
     "text": [
      "9,10,12,15 цифр: 61 %\n",
      "9 цифр: 10 %\n",
      "10 цифр: 4 %\n",
      "12 цифр: 46 %\n",
      "15 цифр: 0.08 %\n"
     ]
    }
   ],
   "source": [
    "x_9_10_12_15 = (tins_only_digits[tins_only_digits.apply(lambda x: len(x) == 9)].shape[0]+\n",
    "tins_only_digits[tins_only_digits.apply(lambda x: len(x) == 10)].shape[0]+\n",
    "tins_only_digits[tins_only_digits.apply(lambda x: len(x) == 12)].shape[0]+\n",
    "tins_only_digits[tins_only_digits.apply(lambda x: len(x) == 15)].shape[0])/data.shape[0]\n",
    "\n",
    "x_9 = (tins_only_digits[tins_only_digits.apply(lambda x: len(x) == 9)]\n",
    "       .shape[0])/data.shape[0]\n",
    "\n",
    "x_10 = (tins_only_digits[tins_only_digits.apply(lambda x: len(x) == 10)]\n",
    "       .shape[0])/data.shape[0]\n",
    "\n",
    "x_12 = (tins_only_digits[tins_only_digits.apply(lambda x: len(x) == 12)]\n",
    "       .shape[0])/data.shape[0]\n",
    "\n",
    "x_15 = (tins_only_digits[tins_only_digits.apply(lambda x: len(x) == 15)]\n",
    "       .shape[0])/data.shape[0]\n",
    "\n",
    "print('9,10,12,15 цифр: {} %'.format(round(x_9_10_12_15*100)))\n",
    "print('9 цифр: {} %'.format(round(x_9*100)))\n",
    "print('10 цифр: {} %'.format(round(x_10*100)))\n",
    "print('12 цифр: {} %'.format(round(x_12*100)))\n",
    "print('15 цифр: {} %'.format(round(x_15*100,2)))"
   ]
  },
  {
   "cell_type": "markdown",
   "metadata": {},
   "source": [
    "Итого подходящих под искомые документы (ИНН, Паспорт росс., паспорт загран, ЕГРНИП) около 47 % "
   ]
  },
  {
   "cell_type": "code",
   "execution_count": 33,
   "metadata": {},
   "outputs": [],
   "source": [
    "num_digits = ['<9', '9', '10', '12', '15', '11, 13, 14 & > 15']\n",
    "counts = [tins_only_digits[tins_only_digits.apply(lambda x: len(x) <= 8)].shape[0],\n",
    "         tins_only_digits[tins_only_digits.apply(lambda x: len(x) == 9)].shape[0],\n",
    "         tins_only_digits[tins_only_digits.apply(lambda x: len(x) == 10)].shape[0],\n",
    "         tins_only_digits[tins_only_digits.apply(lambda x: len(x) == 12)].shape[0],\n",
    "         tins_only_digits[tins_only_digits.apply(lambda x: len(x) == 15)].shape[0],\n",
    "         tins_only_digits[tins_only_digits.apply(lambda x: len(x) > 10 and len(x) != 12 and \n",
    "                                                           len(x) != 15)].shape[0]]"
   ]
  },
  {
   "cell_type": "code",
   "execution_count": 34,
   "metadata": {},
   "outputs": [
    {
     "data": {
      "image/png": "[encoded data removed]",
      "text/plain": [
       "<Figure size 720x720 with 1 Axes>"
      ]
     },
     "metadata": {},
     "output_type": "display_data"
    }
   ],
   "source": [
    "fig1, ax1 = plt.subplots(figsize = [10,10])\n",
    "ax1.pie(counts, labels=num_digits)\n",
    "plt.show()"
   ]
  },
  {
   "cell_type": "code",
   "execution_count": 35,
   "metadata": {},
   "outputs": [
    {
     "name": "stdout",
     "output_type": "stream",
     "text": [
      "Менее 9 цифр: 6 %\n"
     ]
    }
   ],
   "source": [
    "t_less9 = tins_only_digits[tins_only_digits.apply(lambda x: len(x) < 9)].shape[0]/data.shape[0]\n",
    "print('Менее 9 цифр: {} %'.format(round(t_less9*100)))"
   ]
  },
  {
   "cell_type": "code",
   "execution_count": 36,
   "metadata": {},
   "outputs": [
    {
     "data": {
      "text/plain": [
       "1    6861\n",
       "2     135\n",
       "3     390\n",
       "4    7249\n",
       "5    1654\n",
       "6    1274\n",
       "7     879\n",
       "8    3891\n",
       "Name: identnumber, dtype: int64"
      ]
     },
     "execution_count": 36,
     "metadata": {},
     "output_type": "execute_result"
    }
   ],
   "source": [
    "tins_only_digits.map(len).value_counts().sort_index().head(8)"
   ]
  },
  {
   "cell_type": "markdown",
   "metadata": {},
   "source": [
    "Частота TIN до 9 цифр для наглядности по порядку"
   ]
  },
  {
   "cell_type": "code",
   "execution_count": 37,
   "metadata": {},
   "outputs": [
    {
     "data": {
      "text/plain": [
       "11    10349\n",
       "13     1349\n",
       "14      112\n",
       "16      120\n",
       "17       12\n",
       "18       44\n",
       "19       16\n",
       "20       19\n",
       "21        1\n",
       "23       26\n",
       "24        1\n",
       "32       10\n",
       "Name: identnumber, dtype: int64"
      ]
     },
     "execution_count": 37,
     "metadata": {},
     "output_type": "execute_result"
    }
   ],
   "source": [
    "tins_only_digits[tins_only_digits.apply(lambda x: len(x) > 10 and len(x) != 12 and len(x) != 15)].map(len).value_counts().sort_index()"
   ]
  },
  {
   "cell_type": "code",
   "execution_count": 38,
   "metadata": {},
   "outputs": [
    {
     "data": {
      "text/plain": [
       "5555555    15\n",
       "0029160    14\n",
       "0946444    13\n",
       "1382844    11\n",
       "2632363    11\n",
       "           ..\n",
       "6455210     1\n",
       "1002199     1\n",
       "0598034     1\n",
       "2041997     1\n",
       "1222497     1\n",
       "Name: identnumber, Length: 481, dtype: int64"
      ]
     },
     "execution_count": 38,
     "metadata": {},
     "output_type": "execute_result"
    }
   ],
   "source": [
    "tins_only_digits[tins_only_digits.apply(lambda x: len(x) == 7)].value_counts()"
   ]
  },
  {
   "cell_type": "markdown",
   "metadata": {},
   "source": [
    "1107 шт по 7 символов, возможно только номер документа загран паспорта"
   ]
  },
  {
   "cell_type": "code",
   "execution_count": 39,
   "metadata": {},
   "outputs": [
    {
     "data": {
      "text/plain": [
       "14001105    61\n",
       "99999999    33\n",
       "00000000    33\n",
       "61544057    25\n",
       "29871961    17\n",
       "            ..\n",
       "19680115     1\n",
       "08240387     1\n",
       "19370926     1\n",
       "46601171     1\n",
       "75669789     1\n",
       "Name: identnumber, Length: 2251, dtype: int64"
      ]
     },
     "execution_count": 39,
     "metadata": {},
     "output_type": "execute_result"
    }
   ],
   "source": [
    "tins_only_digits[tins_only_digits.apply(lambda x: len(x) == 8)].value_counts()"
   ]
  },
  {
   "cell_type": "markdown",
   "metadata": {},
   "source": [
    "Возможно просто пропущена цифра. Можно использовать TIN по 8 цифр, например, так. Идет проверка по TIN + 1 цифра (0-9) в конце либо в начале, дополнительно проверяя по другим полям. А можно и в середине, но это, конечно, долгий цикл получится. "
   ]
  },
  {
   "cell_type": "markdown",
   "metadata": {},
   "source": [
    "Частота TIN более 10 цифр "
   ]
  },
  {
   "cell_type": "code",
   "execution_count": 40,
   "metadata": {},
   "outputs": [
    {
     "name": "stdout",
     "output_type": "stream",
     "text": [
      "TIN 9 нулей: 8.0 %\n"
     ]
    }
   ],
   "source": [
    "t_9_0 = tins_only_digits[tins_only_digits.apply(lambda x: len(x) == 9)].value_counts()[0]/data.shape[0]\n",
    "print('TIN 9 нулей: {} %'.format(round(t_9_0*100)))"
   ]
  },
  {
   "cell_type": "code",
   "execution_count": 41,
   "metadata": {},
   "outputs": [
    {
     "data": {
      "text/plain": [
       "77050819568    63\n",
       "12814762157    32\n",
       "78390226734    21\n",
       "51152709141    18\n",
       "97319239670    18\n",
       "               ..\n",
       "15876912220     1\n",
       "16106803839     1\n",
       "24059522619     1\n",
       "92762351800     1\n",
       "00121618875     1\n",
       "Name: identnumber, Length: 4940, dtype: int64"
      ]
     },
     "execution_count": 41,
     "metadata": {},
     "output_type": "execute_result"
    }
   ],
   "source": [
    "tins_only_digits[tins_only_digits.apply(lambda x: len(x) == 11)].value_counts()"
   ]
  },
  {
   "cell_type": "code",
   "execution_count": 42,
   "metadata": {},
   "outputs": [
    {
     "data": {
      "text/plain": [
       "8830724030018    34\n",
       "7801051702200    16\n",
       "5008077072102    15\n",
       "9000000487081    15\n",
       "8109218456222    12\n",
       "                 ..\n",
       "2631115400076     1\n",
       "7565615455698     1\n",
       "8707206340016     1\n",
       "7801717610269     1\n",
       "2537146005315     1\n",
       "Name: identnumber, Length: 674, dtype: int64"
      ]
     },
     "execution_count": 42,
     "metadata": {},
     "output_type": "execute_result"
    }
   ],
   "source": [
    "tins_only_digits[tins_only_digits.apply(lambda x: len(x) == 13)].value_counts()"
   ]
  },
  {
   "cell_type": "code",
   "execution_count": 43,
   "metadata": {},
   "outputs": [
    {
     "data": {
      "text/plain": [
       "000000000000000    101\n",
       "304312322600100     14\n",
       "177431825031478      5\n",
       "111111111111111      4\n",
       "790812772207111      4\n",
       "Name: identnumber, dtype: int64"
      ]
     },
     "execution_count": 43,
     "metadata": {},
     "output_type": "execute_result"
    }
   ],
   "source": [
    "tins_only_digits[tins_only_digits.apply(lambda x: len(x) == 15)].value_counts().head()"
   ]
  },
  {
   "cell_type": "code",
   "execution_count": 44,
   "metadata": {},
   "outputs": [
    {
     "name": "stdout",
     "output_type": "stream",
     "text": [
      "15 девяток или нулей: 38.0 %\n"
     ]
    }
   ],
   "source": [
    "x_15_9_0 = tins_only_digits[tins_only_digits.apply(lambda x: len(x) == 15)].value_counts().head(2).sum()/tins_only_digits[tins_only_digits.apply(lambda x: len(x) == 15)].shape[0]\n",
    "print('15 девяток или нулей: {} %'.format(round(x_15_9_0*100)))"
   ]
  },
  {
   "cell_type": "markdown",
   "metadata": {},
   "source": [
    "## Анализ TIN, содержащих буквы/цифры"
   ]
  },
  {
   "cell_type": "code",
   "execution_count": 45,
   "metadata": {},
   "outputs": [
    {
     "data": {
      "text/plain": [
       "(59362,)"
      ]
     },
     "execution_count": 45,
     "metadata": {},
     "output_type": "execute_result"
    }
   ],
   "source": [
    "tins_letter_digit.shape"
   ]
  },
  {
   "cell_type": "markdown",
   "metadata": {},
   "source": [
    "59 362 или 16% всех записей представляют собой смесь букв и цифр"
   ]
  },
  {
   "cell_type": "code",
   "execution_count": 46,
   "metadata": {
    "scrolled": false
   },
   "outputs": [
    {
     "data": {
      "text/plain": [
       "-1                         1405\n",
       "000-00-0000                 130\n",
       "7727DD748430                 89\n",
       "RU552800544947               73\n",
       "NRDFNC54S18G224M             67\n",
       "772833326648RESIDENT ID      65\n",
       "INN773624467928              58\n",
       "521-79-4401                  49\n",
       "RCCRRT70R14F205N             48\n",
       "7728168971IDDENTY CARD       42\n",
       "FDRVDM58R11Z154D             40\n",
       "344 544 107342               39\n",
       "GBRGRO66P49Z135M             37\n",
       "15033225RUSSIAN ID           35\n",
       "INN784806748568              32\n",
       "070379-220D                  32\n",
       "INN773624471089              31\n",
       "Z2018834                     30\n",
       "RGGDVD49T22E329O             30\n",
       "580969-19148                 29\n",
       "Name: identnumber, dtype: int64"
      ]
     },
     "execution_count": 46,
     "metadata": {},
     "output_type": "execute_result"
    }
   ],
   "source": [
    "tins_letter_digit.value_counts().head(20)"
   ]
  },
  {
   "cell_type": "markdown",
   "metadata": {},
   "source": [
    "Наиболее распространенные TIN, в которых присутствуют не только цифры"
   ]
  },
  {
   "cell_type": "code",
   "execution_count": 47,
   "metadata": {},
   "outputs": [
    {
     "data": {
      "text/plain": [
       "10    23919\n",
       "16    13260\n",
       "11    10556\n",
       "14     4534\n",
       "2      1407\n",
       "15     1269\n",
       "9       931\n",
       "12      720\n",
       "8       650\n",
       "13      560\n",
       "7       492\n",
       "18      265\n",
       "17      185\n",
       "6       139\n",
       "20       89\n",
       "23       70\n",
       "22       54\n",
       "19       50\n",
       "32       45\n",
       "21       44\n",
       "31       28\n",
       "4        17\n",
       "28       16\n",
       "24       15\n",
       "26       15\n",
       "5         9\n",
       "27        8\n",
       "25        4\n",
       "44        3\n",
       "30        3\n",
       "36        3\n",
       "45        1\n",
       "42        1\n",
       "Name: identnumber, dtype: int64"
      ]
     },
     "execution_count": 47,
     "metadata": {},
     "output_type": "execute_result"
    }
   ],
   "source": [
    "tins_letter_digit.map(len).value_counts()"
   ]
  },
  {
   "cell_type": "code",
   "execution_count": 48,
   "metadata": {},
   "outputs": [
    {
     "data": {
      "text/plain": [
       "10.02.1994    29\n",
       "17.10.1948    25\n",
       "24.03.1975    22\n",
       "30.07.1974    20\n",
       "09.12.1967    20\n",
       "              ..\n",
       "84761870HD     1\n",
       "400139560R     1\n",
       "60N3956752     1\n",
       "400136882B     1\n",
       "400108374R     1\n",
       "Name: identnumber, Length: 11434, dtype: int64"
      ]
     },
     "execution_count": 48,
     "metadata": {},
     "output_type": "execute_result"
    }
   ],
   "source": [
    "tins_letter_digit[tins_letter_digit.apply(lambda x: len(x) == 10)].value_counts()"
   ]
  },
  {
   "cell_type": "code",
   "execution_count": 49,
   "metadata": {},
   "outputs": [
    {
     "data": {
      "text/plain": [
       "NRDFNC54S18G224M    67\n",
       "RCCRRT70R14F205N    48\n",
       "FDRVDM58R11Z154D    40\n",
       "GBRGRO66P49Z135M    37\n",
       "RGGDVD49T22E329O    30\n",
       "                    ..\n",
       "PRSLNE59R50Z254R     1\n",
       "SPLLLA77L54Z135Z     1\n",
       "PLSGPP81A16F839F     1\n",
       "PDDPLA81M12A192M     1\n",
       "NZRVRY60S29Z154N     1\n",
       "Name: identnumber, Length: 8639, dtype: int64"
      ]
     },
     "execution_count": 49,
     "metadata": {},
     "output_type": "execute_result"
    }
   ],
   "source": [
    "tins_letter_digit[tins_letter_digit.apply(lambda x: len(x) == 16)].value_counts()"
   ]
  },
  {
   "cell_type": "code",
   "execution_count": 50,
   "metadata": {},
   "outputs": [
    {
     "data": {
      "text/plain": [
       "000-00-0000    130\n",
       "521-79-4401     49\n",
       "070379-220D     32\n",
       "070208A593A     26\n",
       "250306A547R     26\n",
       "              ... \n",
       "281088-278T      1\n",
       "300760-232Y      1\n",
       "160492-311A      1\n",
       "1.48112E+12      1\n",
       "220199-6993      1\n",
       "Name: identnumber, Length: 6497, dtype: int64"
      ]
     },
     "execution_count": 50,
     "metadata": {},
     "output_type": "execute_result"
    }
   ],
   "source": [
    "tins_letter_digit[tins_letter_digit.apply(lambda x: len(x) == 11)].value_counts()"
   ]
  },
  {
   "cell_type": "code",
   "execution_count": 51,
   "metadata": {},
   "outputs": [
    {
     "data": {
      "text/plain": [
       "M1M514693    23\n",
       "08026624Q    12\n",
       "6726496RP    10\n",
       "SC935093B    10\n",
       "08057253Y     8\n",
       "             ..\n",
       "01327037Q     1\n",
       "335502-06     1\n",
       "RH0533256     1\n",
       "7.738E+11     1\n",
       "05708031Y     1\n",
       "Name: identnumber, Length: 511, dtype: int64"
      ]
     },
     "execution_count": 51,
     "metadata": {},
     "output_type": "execute_result"
    }
   ],
   "source": [
    "tins_letter_digit[tins_letter_digit.apply(lambda x: len(x) == 9)].value_counts()"
   ]
  },
  {
   "cell_type": "code",
   "execution_count": 52,
   "metadata": {},
   "outputs": [
    {
     "data": {
      "text/plain": [
       "1700008857PERMIT NO    14\n",
       "R2290274PASSPORT NO     5\n",
       "W201666432330113932     3\n",
       "INN 665 901 499 163     3\n",
       "BYDVTR68R16Z16Z154N     2\n",
       "04 21 456 563 115 C     2\n",
       "RUSSIA-773177467721     2\n",
       "29636135 CZ29036135     1\n",
       "SINO 6576656PASPORT     1\n",
       "TINO NO540531446089     1\n",
       "Name: identnumber, dtype: int64"
      ]
     },
     "execution_count": 52,
     "metadata": {},
     "output_type": "execute_result"
    }
   ],
   "source": [
    "tins_letter_digit[tins_letter_digit.apply(lambda x: len(x) == 19)].value_counts().head(10)"
   ]
  },
  {
   "cell_type": "code",
   "execution_count": 53,
   "metadata": {},
   "outputs": [
    {
     "data": {
      "text/plain": [
       "Z2018834    30\n",
       "Z3218199    18\n",
       "Z3558542    12\n",
       "7,73E+11    11\n",
       "7.73E+11    10\n",
       "Z2072858     9\n",
       "OMC78039     8\n",
       "M1M87181     8\n",
       "7,70E+11     8\n",
       "MAA30442     8\n",
       "Name: identnumber, dtype: int64"
      ]
     },
     "execution_count": 53,
     "metadata": {},
     "output_type": "execute_result"
    }
   ],
   "source": [
    "tins_letter_digit[tins_letter_digit.apply(lambda x: len(x) == 8)].value_counts().head(10)"
   ]
  },
  {
   "cell_type": "code",
   "execution_count": 54,
   "metadata": {},
   "outputs": [
    {
     "data": {
      "text/plain": [
       "RU552800544947    73\n",
       "344 544 107342    39\n",
       "M1N450838ID NO    27\n",
       "RU860405931583    17\n",
       "RU772823319431    17\n",
       "                  ..\n",
       "7705 0259 4619     1\n",
       "RU782590059689     1\n",
       "RU772008928133     1\n",
       "77180 334 1275     1\n",
       "165-063-281-56     1\n",
       "Name: identnumber, Length: 1916, dtype: int64"
      ]
     },
     "execution_count": 54,
     "metadata": {},
     "output_type": "execute_result"
    }
   ],
   "source": [
    "tins_letter_digit[tins_letter_digit.apply(lambda x: len(x) == 14)].value_counts()"
   ]
  },
  {
   "cell_type": "code",
   "execution_count": 55,
   "metadata": {},
   "outputs": [
    {
     "data": {
      "text/plain": [
       "7715040601TINWORK PERMIT    8\n",
       "BIC 0445257000TIN NO BIN    2\n",
       "41065507418,773302356644    1\n",
       "28585054820,504401652773    1\n",
       "31272972977,540808447293    1\n",
       "57832973097,500805485390    1\n",
       "72262061129,771543788196    1\n",
       "Name: identnumber, dtype: int64"
      ]
     },
     "execution_count": 55,
     "metadata": {},
     "output_type": "execute_result"
    }
   ],
   "source": [
    "tins_letter_digit[tins_letter_digit.apply(lambda x: len(x) == 24)].value_counts().head(10)"
   ]
  },
  {
   "cell_type": "code",
   "execution_count": 56,
   "metadata": {},
   "outputs": [
    {
     "data": {
      "text/plain": [
       "INN773624467928    58\n",
       "INN784806748568    32\n",
       "INN773624471089    31\n",
       "770 507 456 940    25\n",
       "773168837207INN    19\n",
       "890106953411TIN    16\n",
       "INN443100613027    15\n",
       "770508459704INN    14\n",
       "INN773015431425    13\n",
       "632.302.378.408    11\n",
       "Name: identnumber, dtype: int64"
      ]
     },
     "execution_count": 56,
     "metadata": {},
     "output_type": "execute_result"
    }
   ],
   "source": [
    "tins_letter_digit[tins_letter_digit.apply(lambda x: len(x) == 15)].value_counts().head(10)"
   ]
  },
  {
   "cell_type": "code",
   "execution_count": 57,
   "metadata": {},
   "outputs": [
    {
     "data": {
      "text/plain": [
       "7709009454/771501001    5\n",
       "7710532690/503601001    5\n",
       "RUNHH.771003-7111-99    4\n",
       "7805018099/997250001    3\n",
       "82N0592597GREEN CARD    3\n",
       "7722005113 771801001    3\n",
       "5011021227/501101001    3\n",
       "JK12 RCF RUS 38 2015    2\n",
       "7719793009/771901001    2\n",
       "7706097558/770601001    2\n",
       "Name: identnumber, dtype: int64"
      ]
     },
     "execution_count": 57,
     "metadata": {},
     "output_type": "execute_result"
    }
   ],
   "source": [
    "tins_letter_digit[tins_letter_digit.apply(lambda x: len(x) == 20)].value_counts().head(10)"
   ]
  },
  {
   "cell_type": "code",
   "execution_count": 58,
   "metadata": {},
   "outputs": [
    {
     "data": {
      "text/plain": [
       "15033225RUSSIAN ID    35\n",
       "W20176432950856656     9\n",
       "W20186431315035065     6\n",
       "W20185432113177367     6\n",
       "RUS000000721061691     5\n",
       "INN 7725 8014 3656     4\n",
       "W20162501313516428     4\n",
       "RUS6810203M2306119     4\n",
       "567-413.60.409.153     4\n",
       "RUS5803033M2310303     4\n",
       "Name: identnumber, dtype: int64"
      ]
     },
     "execution_count": 58,
     "metadata": {},
     "output_type": "execute_result"
    }
   ],
   "source": [
    "tins_letter_digit[tins_letter_digit.apply(lambda x: len(x) == 18)].value_counts().head(10)"
   ]
  },
  {
   "cell_type": "code",
   "execution_count": 59,
   "metadata": {},
   "outputs": [
    {
     "data": {
      "text/plain": [
       "1024      P RUS 53 1055558\n",
       "1239                 RU207\n",
       "1743            RU25101990\n",
       "1894          RU9857229999\n",
       "1956           RUS20000218\n",
       "                ...       \n",
       "360516      RU301512347220\n",
       "360517      RU645320056476\n",
       "360518      RU770702876434\n",
       "360519      RU550700018591\n",
       "360520        RU3324808501\n",
       "Name: identnumber, Length: 2881, dtype: object"
      ]
     },
     "execution_count": 59,
     "metadata": {},
     "output_type": "execute_result"
    }
   ],
   "source": [
    "mask_ru = data.identnumber.str.contains('ru', case = False, regex=False, na=False)\n",
    "tins_ru = tins_letter_digit[mask_ru]\n",
    "tins_ru"
   ]
  },
  {
   "cell_type": "markdown",
   "metadata": {},
   "source": [
    "1767 записей в которых присутствуют буквы RU"
   ]
  },
  {
   "cell_type": "code",
   "execution_count": 60,
   "metadata": {},
   "outputs": [
    {
     "data": {
      "text/plain": [
       "1024         531055558\n",
       "1239               207\n",
       "1743          25101990\n",
       "1894        9857229999\n",
       "1956          20000218\n",
       "              ...     \n",
       "360516    301512347220\n",
       "360517    645320056476\n",
       "360518    770702876434\n",
       "360519    550700018591\n",
       "360520      3324808501\n",
       "Name: identnumber, Length: 2881, dtype: object"
      ]
     },
     "execution_count": 60,
     "metadata": {},
     "output_type": "execute_result"
    }
   ],
   "source": [
    "tins_erase_char = tins_ru.apply(lambda x: re.sub('[A-Z,a-z,/!@#$,.();:\\-%? ]', '', x))\n",
    "# tins_erase_char[tins_erase_char.map(len)>6]\n",
    "tins_erase_char"
   ]
  },
  {
   "cell_type": "code",
   "execution_count": 61,
   "metadata": {},
   "outputs": [
    {
     "data": {
      "text/plain": [
       "(2881,)"
      ]
     },
     "execution_count": 61,
     "metadata": {},
     "output_type": "execute_result"
    }
   ],
   "source": [
    "#проверка\n",
    "mask_ru_only_digits = tins_erase_char.apply(lambda x: bool(re.match('^[0-9]+$', x)))\n",
    "tins_ru_only_digits = tins_erase_char[mask_ru_only_digits]\n",
    "tins_ru_only_digits.shape"
   ]
  },
  {
   "cell_type": "code",
   "execution_count": 62,
   "metadata": {},
   "outputs": [
    {
     "data": {
      "text/plain": [
       "12    2403\n",
       "11      97\n",
       "8       97\n",
       "9       83\n",
       "10      64\n",
       "7       35\n",
       "14      34\n",
       "13      23\n",
       "15      12\n",
       "24      11\n",
       "6        9\n",
       "5        8\n",
       "3        2\n",
       "23       1\n",
       "17       1\n",
       "16       1\n",
       "Name: identnumber, dtype: int64"
      ]
     },
     "execution_count": 62,
     "metadata": {},
     "output_type": "execute_result"
    }
   ],
   "source": [
    "tins_ru_only_digits.map(len).value_counts()"
   ]
  },
  {
   "cell_type": "markdown",
   "metadata": {},
   "source": [
    "Частота TIN с RU, RUS c различной длинной символов"
   ]
  },
  {
   "cell_type": "code",
   "execution_count": 63,
   "metadata": {},
   "outputs": [],
   "source": [
    "# mask_without_ru = tins_letter_digit.index.isin(tins_ru.index)\n",
    "# tins_letter_digit = tins_letter_digit[np.invert(mask_without_ru)]"
   ]
  },
  {
   "cell_type": "markdown",
   "metadata": {},
   "source": [
    "Далее рассматриваются буквенные коды других стран СНГ, что не выглядит полезным  \n",
    "Кроме того выделены тины с определенными словами "
   ]
  },
  {
   "cell_type": "code",
   "execution_count": 64,
   "metadata": {
    "scrolled": true
   },
   "outputs": [
    {
     "data": {
      "text/plain": [
       "10115    KZNGRI86A13Z135O\n",
       "10213    PKZLNE69T70Z135C\n",
       "10248    KZDSKR94T21Z154V\n",
       "10347    KZHLNO80R45Z138Y\n",
       "10365    KZMRNI77P53Z135O\n",
       "Name: identnumber, dtype: object"
      ]
     },
     "execution_count": 64,
     "metadata": {},
     "output_type": "execute_result"
    }
   ],
   "source": [
    "mask = data.identnumber.str.contains('kz', case = False, regex=False, na=False)\n",
    "tins_letter_digit[mask].head()"
   ]
  },
  {
   "cell_type": "code",
   "execution_count": 65,
   "metadata": {
    "scrolled": true
   },
   "outputs": [
    {
     "data": {
      "text/plain": [
       "10194    BYKNTL65B53Z154F\n",
       "10283    BYKVNY52A19Z154M\n",
       "10606    BYCVLR83A55Z135X\n",
       "10853    BYSVNY65S22Z135Z\n",
       "11158    BYDVTR71H65Z154U\n",
       "Name: identnumber, dtype: object"
      ]
     },
     "execution_count": 65,
     "metadata": {},
     "output_type": "execute_result"
    }
   ],
   "source": [
    "mask = data.identnumber.str.contains('by', case = False, regex=False, na=False)\n",
    "tins_letter_digit[mask].head()"
   ]
  },
  {
   "cell_type": "code",
   "execution_count": 66,
   "metadata": {},
   "outputs": [
    {
     "data": {
      "text/plain": [
       "29808                         QUAFNC42B10E833W\n",
       "67845                         QUAFNC42B10E833W\n",
       "67861                         QUAFNC42B10E833W\n",
       "68895                     FR19780309RomuaIntar\n",
       "103650    9909391238INDIVIDUAL TAXPAYER NUMBER\n",
       "Name: identnumber, dtype: object"
      ]
     },
     "execution_count": 66,
     "metadata": {},
     "output_type": "execute_result"
    }
   ],
   "source": [
    "mask = data.identnumber.str.contains('ua', case = False, regex=False, na=False)\n",
    "tins_letter_digit[mask].head()"
   ]
  },
  {
   "cell_type": "code",
   "execution_count": 67,
   "metadata": {},
   "outputs": [
    {
     "data": {
      "text/plain": [
       "4215     BGNLVR39E02E229W\n",
       "10156    LVCNTS91L52Z135W\n",
       "10311    RLVMRN61B62Z154Y\n",
       "10401    RLVNLK69P50Z154Y\n",
       "10413    FRLVNY89M31Z154F\n",
       "Name: identnumber, dtype: object"
      ]
     },
     "execution_count": 67,
     "metadata": {},
     "output_type": "execute_result"
    }
   ],
   "source": [
    "mask = data.identnumber.str.contains('lv', case = False, regex=False, na=False)\n",
    "tins_letter_digit[mask].head()"
   ]
  },
  {
   "cell_type": "code",
   "execution_count": 68,
   "metadata": {
    "scrolled": true
   },
   "outputs": [
    {
     "data": {
      "text/plain": [
       "10100    KLTSTL81B50Z154F\n",
       "10457    DLTNTN70R19Z135E\n",
       "10481    LTVVNY86D56Z154H\n",
       "10552    BLTNIA91D63Z154I\n",
       "10628    NLTRNI80C48Z135W\n",
       "Name: identnumber, dtype: object"
      ]
     },
     "execution_count": 68,
     "metadata": {},
     "output_type": "execute_result"
    }
   ],
   "source": [
    "mask = data.identnumber.str.contains('lt', case = False, regex=False, na=False)\n",
    "tins_letter_digit[mask].head()"
   ]
  },
  {
   "cell_type": "markdown",
   "metadata": {},
   "source": [
    "Заменяю скрытые символы:'¹' -> '1', 'D', 'O' -> '0', 'B' -> '8'"
   ]
  },
  {
   "cell_type": "code",
   "execution_count": 69,
   "metadata": {},
   "outputs": [
    {
     "name": "stdout",
     "output_type": "stream",
     "text": [
      "False    59362\n",
      "Name: identnumber, dtype: int64\n"
     ]
    }
   ],
   "source": [
    "mask = tins_letter_digit.str.contains('¹', case = False, regex=False, na=False)\n",
    "print(mask.value_counts())\n",
    "tins_letter_digit = tins_letter_digit.str.replace('¹','1')"
   ]
  },
  {
   "cell_type": "code",
   "execution_count": 70,
   "metadata": {},
   "outputs": [
    {
     "name": "stdout",
     "output_type": "stream",
     "text": [
      "False    619\n",
      "True     101\n",
      "Name: identnumber, dtype: int64\n"
     ]
    }
   ],
   "source": [
    "mask = tins_letter_digit[tins_letter_digit.apply(lambda x: len(x) == 12)].str.contains('D', case = False, regex=False, na=False)\n",
    "print(mask.value_counts())\n",
    "tins_letter_digit = tins_letter_digit.str.replace('D','0')"
   ]
  },
  {
   "cell_type": "code",
   "execution_count": 71,
   "metadata": {},
   "outputs": [
    {
     "name": "stdout",
     "output_type": "stream",
     "text": [
      "False    720\n",
      "Name: identnumber, dtype: int64\n"
     ]
    }
   ],
   "source": [
    "mask = tins_letter_digit[tins_letter_digit.apply(lambda x: len(x) == 12)].str.contains('D', case = False, regex=False, na=False)\n",
    "print(mask.value_counts())\n",
    "tins_letter_digit = tins_letter_digit.str.replace('B','8')"
   ]
  },
  {
   "cell_type": "code",
   "execution_count": 72,
   "metadata": {},
   "outputs": [
    {
     "name": "stdout",
     "output_type": "stream",
     "text": [
      "False    720\n",
      "Name: identnumber, dtype: int64\n"
     ]
    }
   ],
   "source": [
    "mask = tins_letter_digit[tins_letter_digit.apply(lambda x: len(x) == 12)].str.contains('D', case = False, regex=False, na=False)\n",
    "print(mask.value_counts())\n",
    "tins_letter_digit = tins_letter_digit.str.replace('O','0')"
   ]
  },
  {
   "cell_type": "code",
   "execution_count": 73,
   "metadata": {},
   "outputs": [
    {
     "data": {
      "text/plain": [
       "0.00027876449368363816"
      ]
     },
     "execution_count": 73,
     "metadata": {},
     "output_type": "execute_result"
    }
   ],
   "source": [
    "101/data.shape[0]"
   ]
  },
  {
   "cell_type": "markdown",
   "metadata": {},
   "source": [
    "Разделяю, очищаю тины из выборки буквы/цифры (там еще и символы)"
   ]
  },
  {
   "cell_type": "code",
   "execution_count": 74,
   "metadata": {},
   "outputs": [],
   "source": [
    "# inns = ['INN 665 901 499 163', '3608136691RU1308193601', '7194180974RUS5308011M2205', '4016728114RUS7111114' ,\n",
    "#         '51 3346352 21/03/1957','7718232025','58317290948 INN:772811309943','7718232025 771801001',\n",
    "#         '7716615897/771601001','7720657593   772001001', '317 103 100987 0006', '04 21 456 563 115 C',\n",
    "#         'Passport No: 71 6289698', 'PASSPORT No: 71 6289698', 'P RUS 53 1055558']\n",
    "\n",
    "# inns = pd.Series(inns)\n",
    "\n",
    "def split_clean_id(docs):\n",
    "    \n",
    "    docs = docs.apply(lambda x: re.sub(r'\\bPASSPORT\\b|\\bPassport\\b|\\bpassport\\b', '', x))\n",
    "    \n",
    "    docs = docs.values\n",
    "    \n",
    "    split_docs = []\n",
    "    \n",
    "    for d in docs:\n",
    "        \n",
    "        # Если пробел присутствует в первых 8 символах, то убираем его, т.к. документа < 9 символов у нас нет, \n",
    "        # делить по этому пробелу нет смысла\n",
    "        if ' ' in d[:8]:\n",
    "            d = \"\".join(d.split(\" \", 1))\n",
    "        \n",
    "        # Разделяем каждый номер по пробелам, /,  RUS, RU \n",
    "        l = re.split('/|\\s\\s|\\s|RUS|RU', d)\n",
    "        \n",
    "        # Оставляем только те, что длиннее 7 символов\n",
    "        li = [n for n in l if len(n) > 7]\n",
    "        \n",
    "        # Если все компоненты короче 7 символов, считаем, что разделение ошибочно, и возвращаем как было\n",
    "        if li == []:\n",
    "            li = [d]\n",
    "        \n",
    "        # Формируем итоговый список, удаляя буквы/символы \n",
    "        for i in li:\n",
    "            \n",
    "            i = re.sub('\\D', '', i)\n",
    "            split_docs.append(i)\n",
    "            \n",
    "        split_docs = [s for s in split_docs if s != '']\n",
    "    \n",
    "    return(split_docs)\n",
    "\n",
    "#[A-Z,a-z,/!@#$,.();:~\\-%?&°\\\\+*\\n|\"\\'`_\\[\\] ]"
   ]
  },
  {
   "cell_type": "code",
   "execution_count": 75,
   "metadata": {},
   "outputs": [
    {
     "data": {
      "text/plain": [
       "59431"
      ]
     },
     "execution_count": 75,
     "metadata": {},
     "output_type": "execute_result"
    }
   ],
   "source": [
    "clean_tins = split_clean_id(tins_letter_digit)\n",
    "len(clean_tins)"
   ]
  },
  {
   "cell_type": "code",
   "execution_count": 76,
   "metadata": {},
   "outputs": [
    {
     "data": {
      "text/plain": [
       "69"
      ]
     },
     "execution_count": 76,
     "metadata": {},
     "output_type": "execute_result"
    }
   ],
   "source": [
    "len(clean_tins) - tins_letter_digit.shape[0]"
   ]
  },
  {
   "cell_type": "markdown",
   "metadata": {},
   "source": [
    "После обработки количество тинов увеличилось с 59362 до 59431 (69 за счет разделения)"
   ]
  },
  {
   "cell_type": "code",
   "execution_count": 77,
   "metadata": {},
   "outputs": [
    {
     "data": {
      "text/plain": [
       "59431"
      ]
     },
     "execution_count": 77,
     "metadata": {},
     "output_type": "execute_result"
    }
   ],
   "source": [
    "#Проверка\n",
    "tins_ld_only_digits = [x for x in clean_tins if bool(re.match('^[0-9]+$', x))]\n",
    "len(tins_ld_only_digits)"
   ]
  },
  {
   "cell_type": "markdown",
   "metadata": {},
   "source": [
    "Частота тинов с различной длиной символов"
   ]
  },
  {
   "cell_type": "code",
   "execution_count": 78,
   "metadata": {},
   "outputs": [
    {
     "data": {
      "text/plain": [
       "8     23584\n",
       "9     14258\n",
       "7      6539\n",
       "10     4806\n",
       "12     4044\n",
       "11     2371\n",
       "1      1421\n",
       "6       698\n",
       "5       688\n",
       "14      319\n",
       "13      221\n",
       "4       207\n",
       "17      139\n",
       "15       59\n",
       "2        29\n",
       "16       17\n",
       "3        16\n",
       "23        6\n",
       "18        6\n",
       "19        1\n",
       "22        1\n",
       "29        1\n",
       "dtype: int64"
      ]
     },
     "execution_count": 78,
     "metadata": {},
     "output_type": "execute_result"
    }
   ],
   "source": [
    "clean_tins = pd.Series(clean_tins)\n",
    "clean_tins.map(len).value_counts()"
   ]
  },
  {
   "cell_type": "code",
   "execution_count": 79,
   "metadata": {},
   "outputs": [
    {
     "name": "stdout",
     "output_type": "stream",
     "text": [
      "Менее 9 цифр: 9 %\n"
     ]
    }
   ],
   "source": [
    "t_less9_l = clean_tins[clean_tins.apply(lambda x: len(x) < 9)].shape[0]/data.shape[0]\n",
    "print('Менее 9 цифр: {} %'.format(round(t_less9_l*100)))"
   ]
  },
  {
   "cell_type": "code",
   "execution_count": 80,
   "metadata": {},
   "outputs": [
    {
     "data": {
      "text/plain": [
       "0.06509288929737547"
      ]
     },
     "execution_count": 80,
     "metadata": {},
     "output_type": "execute_result"
    }
   ],
   "source": [
    "clean_tins[clean_tins.apply(lambda x: len(x) == 8)].shape[0]/data.shape[0]"
   ]
  },
  {
   "cell_type": "code",
   "execution_count": 81,
   "metadata": {},
   "outputs": [
    {
     "name": "stdout",
     "output_type": "stream",
     "text": [
      "9,10,12,15 цифр: 6.39 %\n",
      "9 цифр: 3.94 %\n",
      "10 цифр: 1.33 %\n",
      "12 цифр: 1.12 %\n",
      "15 цифр: 0.02 %\n"
     ]
    }
   ],
   "source": [
    "x_9_10_12_15_l = (clean_tins[clean_tins.apply(lambda x: len(x) == 9)].shape[0]+\n",
    "clean_tins[clean_tins.apply(lambda x: len(x) == 10)].shape[0]+\n",
    "clean_tins[clean_tins.apply(lambda x: len(x) == 12)].shape[0]+\n",
    "clean_tins[clean_tins.apply(lambda x: len(x) == 15)].shape[0])/data.shape[0]\n",
    "\n",
    "x_9_l = (clean_tins[clean_tins.apply(lambda x: len(x) == 9)]\n",
    "       .shape[0])/data.shape[0]\n",
    "\n",
    "x_10_l = (clean_tins[clean_tins.apply(lambda x: len(x) == 10)]\n",
    "       .shape[0])/data.shape[0]\n",
    "\n",
    "x_12_l = (clean_tins[clean_tins.apply(lambda x: len(x) == 12)]\n",
    "       .shape[0])/data.shape[0]\n",
    "\n",
    "x_15_l = (clean_tins[clean_tins.apply(lambda x: len(x) == 15)]\n",
    "       .shape[0])/data.shape[0]\n",
    "\n",
    "print('9,10,12,15 цифр: {} %'.format(round(x_9_10_12_15_l*100,2)))\n",
    "print('9 цифр: {} %'.format(round(x_9_l*100,2)))\n",
    "print('10 цифр: {} %'.format(round(x_10_l*100,2)))\n",
    "print('12 цифр: {} %'.format(round(x_12_l*100,2)))\n",
    "print('15 цифр: {} %'.format(round(x_15_l*100, 2)))"
   ]
  },
  {
   "cell_type": "markdown",
   "metadata": {},
   "source": [
    "## Проверка ИНН"
   ]
  },
  {
   "cell_type": "code",
   "execution_count": 82,
   "metadata": {},
   "outputs": [],
   "source": [
    "def validate_inn(inn):\n",
    "    \n",
    "    weights1 = [7,2,4,10,3,5,9,4,6,8,0]\n",
    "    weights2 = [3,7,2,4,10,3,5,9,4,6,8,0]\n",
    "    \n",
    "    control_sum1 = 0\n",
    "    for i,j in zip(weights1, inn[:-1]):\n",
    "        control_sum1 += i*int(j)\n",
    "    \n",
    "    residuals1 = control_sum1 % 11\n",
    "    if residuals1 > 9:\n",
    "        residuals1 = residuals1 % 10\n",
    "    \n",
    "    control_sum2 = 0\n",
    "    for i,j in zip(weights2, inn):\n",
    "        control_sum2 += i*int(j)\n",
    "    residuals2 = control_sum2 % 11\n",
    "    if residuals2 > 9:\n",
    "        residuals2 = residuals2 % 10\n",
    "    \n",
    "    if (residuals1 == int(inn[-2])) & (residuals2 == int(inn[-1])):\n",
    "        return True\n",
    "    else:\n",
    "        return False"
   ]
  },
  {
   "cell_type": "code",
   "execution_count": 83,
   "metadata": {},
   "outputs": [
    {
     "data": {
      "text/plain": [
       "True"
      ]
     },
     "execution_count": 83,
     "metadata": {},
     "output_type": "execute_result"
    }
   ],
   "source": [
    "inn = '773581571984'\n",
    "validate_inn(inn)"
   ]
  },
  {
   "cell_type": "markdown",
   "metadata": {},
   "source": [
    "Проверка ИНН на валидность для 12-ти символьных тинов (только цифры)"
   ]
  },
  {
   "cell_type": "code",
   "execution_count": 84,
   "metadata": {},
   "outputs": [
    {
     "data": {
      "text/plain": [
       "True     160826\n",
       "False      7085\n",
       "Name: identnumber, dtype: int64"
      ]
     },
     "execution_count": 84,
     "metadata": {},
     "output_type": "execute_result"
    }
   ],
   "source": [
    "mask_true_inn = tins_only_digits[tins_only_digits.apply(lambda x: len(x) == 12)].map(validate_inn)\n",
    "mask_true_inn.value_counts()"
   ]
  },
  {
   "cell_type": "code",
   "execution_count": 85,
   "metadata": {},
   "outputs": [
    {
     "name": "stdout",
     "output_type": "stream",
     "text": [
      "Валидные ИНН: 44.39 %\n"
     ]
    }
   ],
   "source": [
    "ti = len(mask_true_inn[mask_true_inn==True])/data.shape[0]\n",
    "print('Валидные ИНН: {} %'.format(round(ti*100, 2)))"
   ]
  },
  {
   "cell_type": "markdown",
   "metadata": {},
   "source": [
    "Проверка ИНН на валидность для 12-ти символьных тинов (в зашумленных тинах)"
   ]
  },
  {
   "cell_type": "code",
   "execution_count": 86,
   "metadata": {},
   "outputs": [
    {
     "data": {
      "text/plain": [
       "True     3676\n",
       "False     368\n",
       "dtype: int64"
      ]
     },
     "execution_count": 86,
     "metadata": {},
     "output_type": "execute_result"
    }
   ],
   "source": [
    "mask_true_inn_l = clean_tins[clean_tins.apply(lambda x: len(x) == 12)].map(validate_inn)\n",
    "mask_true_inn_l.value_counts()"
   ]
  },
  {
   "cell_type": "code",
   "execution_count": 87,
   "metadata": {},
   "outputs": [
    {
     "name": "stdout",
     "output_type": "stream",
     "text": [
      "Валидные ИНН очищенные: 1.01 %\n"
     ]
    }
   ],
   "source": [
    "ti_l = len(mask_true_inn_l[mask_true_inn_l==True])/data.shape[0]\n",
    "print('Валидные ИНН очищенные: {} %'.format(round(ti_l*100, 2)))"
   ]
  },
  {
   "cell_type": "markdown",
   "metadata": {},
   "source": [
    "## Проверка российского паспорта"
   ]
  },
  {
   "cell_type": "code",
   "execution_count": 88,
   "metadata": {},
   "outputs": [],
   "source": [
    "okato = pd.read_csv(SOURCE_FOLDER + 'OKATO.csv')\n",
    "\n",
    "def validate_passport(passport):\n",
    "    \n",
    "    result = False\n",
    "    \n",
    "    if (((int(passport[2:4]) >= 0) and (int(passport[2:4]) <= 23)) or \n",
    "        ((int(passport[2:4]) >= 97) and (int(passport[2:4]) <= 99))):\n",
    "        \n",
    "        if int(passport[:2]) in okato.OKATO.values:\n",
    "            result = True\n",
    "            \n",
    "    return result"
   ]
  },
  {
   "cell_type": "code",
   "execution_count": 89,
   "metadata": {},
   "outputs": [
    {
     "name": "stdout",
     "output_type": "stream",
     "text": [
      "CPU times: user 175 ms, sys: 17 µs, total: 175 ms\n",
      "Wall time: 173 ms\n"
     ]
    },
    {
     "data": {
      "text/plain": [
       "True     10635\n",
       "False     3101\n",
       "Name: identnumber, dtype: int64"
      ]
     },
     "execution_count": 89,
     "metadata": {},
     "output_type": "execute_result"
    }
   ],
   "source": [
    "%%time\n",
    "mask_true_passport = tins_only_digits[tins_only_digits.apply(lambda x: len(x) == 10)].map(validate_passport)\n",
    "mask_true_passport.value_counts()"
   ]
  },
  {
   "cell_type": "code",
   "execution_count": 90,
   "metadata": {},
   "outputs": [
    {
     "name": "stdout",
     "output_type": "stream",
     "text": [
      "Валидные росс.паспорта: 2.94 %\n"
     ]
    }
   ],
   "source": [
    "trp = len(mask_true_passport[mask_true_passport==True])/data.shape[0]\n",
    "print('Валидные росс.паспорта: {} %'.format(round(trp*100, 2)))"
   ]
  },
  {
   "cell_type": "code",
   "execution_count": 91,
   "metadata": {},
   "outputs": [
    {
     "data": {
      "text/plain": [
       "True     3339\n",
       "False    1467\n",
       "dtype: int64"
      ]
     },
     "execution_count": 91,
     "metadata": {},
     "output_type": "execute_result"
    }
   ],
   "source": [
    "mask_true_passport_l = clean_tins[clean_tins.apply(lambda x: len(x) == 10)].map(validate_passport)\n",
    "mask_true_passport_l.value_counts()"
   ]
  },
  {
   "cell_type": "code",
   "execution_count": 92,
   "metadata": {},
   "outputs": [
    {
     "name": "stdout",
     "output_type": "stream",
     "text": [
      "Валидные очищенные росс.паспорта: 0.92 %\n"
     ]
    }
   ],
   "source": [
    "trp_l = len(mask_true_passport_l[mask_true_passport_l==True])/data.shape[0]\n",
    "print('Валидные очищенные росс.паспорта: {} %'.format(round(trp_l*100, 2)))"
   ]
  },
  {
   "cell_type": "markdown",
   "metadata": {},
   "source": [
    "## Проверка ИНН ЮЛ"
   ]
  },
  {
   "cell_type": "code",
   "execution_count": 112,
   "metadata": {},
   "outputs": [
    {
     "data": {
      "text/plain": [
       "False    10873\n",
       "True      2863\n",
       "Name: identnumber, dtype: int64"
      ]
     },
     "execution_count": 112,
     "metadata": {},
     "output_type": "execute_result"
    }
   ],
   "source": [
    "def validate_ul_inn(inn):\n",
    "    \n",
    "    weights = [2,4,10,3,5,9,4,6,8,0]\n",
    "    \n",
    "    \n",
    "    control_sum = 0\n",
    "    for i,j in zip(weights, inn):\n",
    "        control_sum += i*int(j)\n",
    "    \n",
    "    residuals = control_sum % 11\n",
    "    if residuals > 9:\n",
    "        residuals = residuals % 10\n",
    "    \n",
    "    if (residuals == int(inn[-1])):\n",
    "        return True\n",
    "    else:\n",
    "        return False\n",
    "    \n",
    "mask_inn_ul = tins_only_digits[tins_only_digits.apply(lambda x: len(x) == 10)].map(validate_ul_inn)\n",
    "mask_inn_ul.value_counts()"
   ]
  },
  {
   "cell_type": "code",
   "execution_count": 121,
   "metadata": {},
   "outputs": [
    {
     "name": "stdout",
     "output_type": "stream",
     "text": [
      "ИНН ЮЛ или росс.паспорта: 3.2 %\n"
     ]
    }
   ],
   "source": [
    "true_ul_inn = tins_only_digits[tins_only_digits.apply(lambda x: len(x) == 10)][mask_inn_ul]\n",
    "true_passport = tins_only_digits[tins_only_digits.apply(lambda x: len(x) == 10)][mask_true_passport]\n",
    "mask_pas_inn = true_passport.index.isin(true_ul_inn.index)\n",
    "pas_inn_num = len(true_passport)+len(true_ul_inn)-len(mask_pas_inn[mask_pas_inn == True])\n",
    "pin = pas_inn_num/data.shape[0]\n",
    "print('ИНН ЮЛ или росс.паспорта: {} %'.format(round(pin*100, 2)))"
   ]
  },
  {
   "cell_type": "markdown",
   "metadata": {},
   "source": [
    "## Проверка заграничного паспорта"
   ]
  },
  {
   "cell_type": "code",
   "execution_count": 93,
   "metadata": {},
   "outputs": [],
   "source": [
    "vzc = ['10', '11', '12', '20', '21', '22', '53', '54', '55', '61', '62', '63', '64', '65', '71', '72', '73', '74', '75']\n",
    "valid_zagran_codes = ['53', '61', '62', '63', '64', '70', '71']\n",
    "\n",
    "def validate_zagran(passport):\n",
    "    \n",
    "    result = False\n",
    "    \n",
    "    if passport[:2] in vzc:\n",
    "        result = True\n",
    "            \n",
    "    return result"
   ]
  },
  {
   "cell_type": "code",
   "execution_count": 94,
   "metadata": {},
   "outputs": [
    {
     "data": {
      "text/plain": [
       "False    29929\n",
       "True      7404\n",
       "Name: identnumber, dtype: int64"
      ]
     },
     "execution_count": 94,
     "metadata": {},
     "output_type": "execute_result"
    }
   ],
   "source": [
    "vzc = ['10', '11', '12', '20', '21', '22', '53', '54', '55', '61', '62', '63', '64', '65', '71', '72', '73', '74', '75']\n",
    "mask_true_zagran = tins_only_digits[tins_only_digits.apply(lambda x: len(x) == 9)].map(validate_zagran)\n",
    "mask_true_zagran.value_counts()"
   ]
  },
  {
   "cell_type": "code",
   "execution_count": 95,
   "metadata": {},
   "outputs": [
    {
     "name": "stdout",
     "output_type": "stream",
     "text": [
      "Валидные загран: 2.04 %\n"
     ]
    }
   ],
   "source": [
    "tz = len(mask_true_zagran[mask_true_zagran==True])/data.shape[0]\n",
    "print('Валидные загран: {} %'.format(round(tz*100, 2)))"
   ]
  },
  {
   "cell_type": "code",
   "execution_count": 96,
   "metadata": {},
   "outputs": [
    {
     "data": {
      "text/plain": [
       "False    12720\n",
       "True      1538\n",
       "dtype: int64"
      ]
     },
     "execution_count": 96,
     "metadata": {},
     "output_type": "execute_result"
    }
   ],
   "source": [
    "mask_true_zagran_l = clean_tins[clean_tins.apply(lambda x: len(x) == 9)].map(validate_zagran)\n",
    "mask_true_zagran_l.value_counts()"
   ]
  },
  {
   "cell_type": "code",
   "execution_count": 97,
   "metadata": {},
   "outputs": [
    {
     "name": "stdout",
     "output_type": "stream",
     "text": [
      "Валидные очищенные загран: 0.42 %\n"
     ]
    }
   ],
   "source": [
    "tz_l = len(mask_true_zagran_l[mask_true_zagran_l==True])/data.shape[0]\n",
    "print('Валидные очищенные загран: {} %'.format(round(tz_l*100, 2)))"
   ]
  },
  {
   "cell_type": "markdown",
   "metadata": {},
   "source": [
    "Доработка 11-ти и 13-ти символьных тин"
   ]
  },
  {
   "cell_type": "code",
   "execution_count": 105,
   "metadata": {},
   "outputs": [],
   "source": [
    "def add_digit(tin, digit, position):\n",
    "       \n",
    "    if len(tin) == 11:\n",
    "        if position == 'back':\n",
    "            tin_12 = tin+str(digit)\n",
    "        elif position == 'front':\n",
    "            tin_12 = str(digit)+tin\n",
    "    \n",
    "    elif len(tin) == 13:\n",
    "        if position == 'back':\n",
    "            tin_12 = tin[:-1]\n",
    "        elif position == 'front':\n",
    "            tin_12 = tin[1:]\n",
    "    return tin_12\n",
    "\n",
    "def check_true_inn(tin_series, pos, digits = [i for i in range(10)], result_inn = False):\n",
    "    #Выводит процент валидных inn\n",
    "    #Возвращает валидные инн с добавленной цифрой (1 шт)\n",
    "    true_inns_proc = 0\n",
    "    for d in digits:\n",
    "        \n",
    "        tin_series_12 = tin_series.apply(add_digit, digit=d, position = pos)\n",
    "        mask_true = tin_series_12.apply(validate_inn)\n",
    "    \n",
    "        ti = len(mask_true[mask_true==True])/tin_series.shape[0]\n",
    "        true_inns_proc += ti\n",
    "    \n",
    "        print('Валидные ИНН c {} {}: {} %'.format(d, pos, round(ti*100, 2)))\n",
    "    print('Всего {} %'.format(round(true_inns_proc*100, 2)))\n",
    "    \n",
    "    if result_inn:\n",
    "        return tin_series_12[mask_true]\n",
    "        \n",
    "    "
   ]
  },
  {
   "cell_type": "code",
   "execution_count": 109,
   "metadata": {},
   "outputs": [
    {
     "data": {
      "text/plain": [
       "False    8488\n",
       "True     1861\n",
       "Name: identnumber, dtype: int64"
      ]
     },
     "execution_count": 109,
     "metadata": {},
     "output_type": "execute_result"
    }
   ],
   "source": [
    "tin_11_12_0f = tins_only_digits[tins_only_digits.apply(lambda x: len(x) == 11)].apply(add_digit, digit=0, position='front')\n",
    "tin_11_12_0f.apply(validate_inn).value_counts()"
   ]
  },
  {
   "cell_type": "code",
   "execution_count": 110,
   "metadata": {},
   "outputs": [
    {
     "name": "stdout",
     "output_type": "stream",
     "text": [
      "Валидные ИНН c 0 front: 17.98 %\n",
      "Валидные ИНН c 1 front: 0.91 %\n",
      "Валидные ИНН c 2 front: 0.84 %\n",
      "Валидные ИНН c 3 front: 0.57 %\n",
      "Валидные ИНН c 4 front: 0.71 %\n",
      "Валидные ИНН c 5 front: 0.84 %\n",
      "Валидные ИНН c 6 front: 1.05 %\n",
      "Валидные ИНН c 7 front: 1.17 %\n",
      "Валидные ИНН c 8 front: 0.86 %\n",
      "Валидные ИНН c 9 front: 0.49 %\n",
      "Всего 25.42 %\n"
     ]
    }
   ],
   "source": [
    "check_true_inn(tins_only_digits[tins_only_digits.apply(lambda x: len(x) == 11)], pos = 'front')"
   ]
  },
  {
   "cell_type": "code",
   "execution_count": null,
   "metadata": {},
   "outputs": [],
   "source": []
  }
 ],
 "metadata": {
  "kernelspec": {
   "display_name": "Python 3",
   "language": "python",
   "name": "python3"
  },
  "language_info": {
   "codemirror_mode": {
    "name": "ipython",
    "version": 3
   },
   "file_extension": ".py",
   "mimetype": "text/x-python",
   "name": "python",
   "nbconvert_exporter": "python",
   "pygments_lexer": "ipython3",
   "version": "3.7.8"
  },
  "varInspector": {
   "cols": {
    "lenName": 16,
    "lenType": 16,
    "lenVar": 40
   },
   "kernels_config": {
    "python": {
     "delete_cmd_postfix": "",
     "delete_cmd_prefix": "del ",
     "library": "var_list.py",
     "varRefreshCmd": "print(var_dic_list())"
    },
    "r": {
     "delete_cmd_postfix": ") ",
     "delete_cmd_prefix": "rm(",
     "library": "var_list.r",
     "varRefreshCmd": "cat(var_dic_list()) "
    }
   },
   "types_to_exclude": [
    "module",
    "function",
    "builtin_function_or_method",
    "instance",
    "_Feature"
   ],
   "window_display": false
  }
 },
 "nbformat": 4,
 "nbformat_minor": 4
}
